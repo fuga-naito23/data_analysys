{
 "cells": [
  {
   "cell_type": "code",
   "execution_count": 1,
   "metadata": {},
   "outputs": [],
   "source": [
    "import pandas as pd\n",
    "import numpy as np"
   ]
  },
  {
   "cell_type": "code",
   "execution_count": 2,
   "metadata": {},
   "outputs": [],
   "source": [
    "submit = pd.read_csv('submit_sample.csv',header=None)\n",
    "test = pd.read_csv('test.csv')\n",
    "train = pd.read_csv('train.csv')"
   ]
  },
  {
   "cell_type": "code",
   "execution_count": 3,
   "metadata": {},
   "outputs": [],
   "source": [
    "data = pd.concat([train, test], sort = False)"
   ]
  },
  {
   "cell_type": "code",
   "execution_count": 4,
   "metadata": {},
   "outputs": [],
   "source": [
    "data['month'].replace(['jan','feb','mar','apr','may','jun','jul','aug','sep','oct','nov','dec'], [1,2,3,4,5,6,7,8,9,10,11,12], inplace=True)"
   ]
  },
  {
   "cell_type": "code",
   "execution_count": 5,
   "metadata": {},
   "outputs": [],
   "source": [
    "data['housing'].replace(['yes','no'], [1, 0], inplace= True)"
   ]
  },
  {
   "cell_type": "code",
   "execution_count": 6,
   "metadata": {},
   "outputs": [],
   "source": [
    "data['loan'].replace(['yes','no'], [1, 0], inplace= True)"
   ]
  },
  {
   "cell_type": "code",
   "execution_count": 7,
   "metadata": {},
   "outputs": [],
   "source": [
    "data['default'].replace(['yes','no'], [1, 0], inplace= True)"
   ]
  },
  {
   "cell_type": "code",
   "execution_count": 8,
   "metadata": {},
   "outputs": [],
   "source": [
    "# data['era'] = pd.cut(data['age'], bins=np.arange(0, 110, 10), right=False,labels=False)"
   ]
  },
  {
   "cell_type": "code",
   "execution_count": 9,
   "metadata": {},
   "outputs": [],
   "source": [
    "# data['era']"
   ]
  },
  {
   "cell_type": "code",
   "execution_count": 10,
   "metadata": {},
   "outputs": [
    {
     "data": {
      "text/html": [
       "<div>\n",
       "<style scoped>\n",
       "    .dataframe tbody tr th:only-of-type {\n",
       "        vertical-align: middle;\n",
       "    }\n",
       "\n",
       "    .dataframe tbody tr th {\n",
       "        vertical-align: top;\n",
       "    }\n",
       "\n",
       "    .dataframe thead th {\n",
       "        text-align: right;\n",
       "    }\n",
       "</style>\n",
       "<table border=\"1\" class=\"dataframe\">\n",
       "  <thead>\n",
       "    <tr style=\"text-align: right;\">\n",
       "      <th></th>\n",
       "      <th>id</th>\n",
       "      <th>age</th>\n",
       "      <th>job</th>\n",
       "      <th>marital</th>\n",
       "      <th>education</th>\n",
       "      <th>default</th>\n",
       "      <th>balance</th>\n",
       "      <th>housing</th>\n",
       "      <th>loan</th>\n",
       "      <th>contact</th>\n",
       "      <th>day</th>\n",
       "      <th>month</th>\n",
       "      <th>duration</th>\n",
       "      <th>campaign</th>\n",
       "      <th>pdays</th>\n",
       "      <th>previous</th>\n",
       "      <th>poutcome</th>\n",
       "      <th>y</th>\n",
       "    </tr>\n",
       "  </thead>\n",
       "  <tbody>\n",
       "    <tr>\n",
       "      <th>0</th>\n",
       "      <td>0</td>\n",
       "      <td>31</td>\n",
       "      <td>7</td>\n",
       "      <td>married</td>\n",
       "      <td>secondary</td>\n",
       "      <td>0</td>\n",
       "      <td>12294</td>\n",
       "      <td>1</td>\n",
       "      <td>0</td>\n",
       "      <td>cellular</td>\n",
       "      <td>21</td>\n",
       "      <td>11</td>\n",
       "      <td>101</td>\n",
       "      <td>3</td>\n",
       "      <td>498</td>\n",
       "      <td>0</td>\n",
       "      <td>other</td>\n",
       "      <td>0.0</td>\n",
       "    </tr>\n",
       "    <tr>\n",
       "      <th>1</th>\n",
       "      <td>1</td>\n",
       "      <td>29</td>\n",
       "      <td>2</td>\n",
       "      <td>single</td>\n",
       "      <td>tertiary</td>\n",
       "      <td>0</td>\n",
       "      <td>43027</td>\n",
       "      <td>0</td>\n",
       "      <td>0</td>\n",
       "      <td>cellular</td>\n",
       "      <td>22</td>\n",
       "      <td>8</td>\n",
       "      <td>158</td>\n",
       "      <td>2</td>\n",
       "      <td>702</td>\n",
       "      <td>0</td>\n",
       "      <td>unknown</td>\n",
       "      <td>1.0</td>\n",
       "    </tr>\n",
       "    <tr>\n",
       "      <th>2</th>\n",
       "      <td>2</td>\n",
       "      <td>35</td>\n",
       "      <td>4</td>\n",
       "      <td>married</td>\n",
       "      <td>tertiary</td>\n",
       "      <td>0</td>\n",
       "      <td>12252</td>\n",
       "      <td>1</td>\n",
       "      <td>0</td>\n",
       "      <td>cellular</td>\n",
       "      <td>11</td>\n",
       "      <td>11</td>\n",
       "      <td>351</td>\n",
       "      <td>1</td>\n",
       "      <td>826</td>\n",
       "      <td>0</td>\n",
       "      <td>failure</td>\n",
       "      <td>0.0</td>\n",
       "    </tr>\n",
       "    <tr>\n",
       "      <th>3</th>\n",
       "      <td>3</td>\n",
       "      <td>31</td>\n",
       "      <td>9</td>\n",
       "      <td>married</td>\n",
       "      <td>secondary</td>\n",
       "      <td>0</td>\n",
       "      <td>99121</td>\n",
       "      <td>1</td>\n",
       "      <td>1</td>\n",
       "      <td>unknown</td>\n",
       "      <td>16</td>\n",
       "      <td>5</td>\n",
       "      <td>658</td>\n",
       "      <td>2</td>\n",
       "      <td>120</td>\n",
       "      <td>0</td>\n",
       "      <td>failure</td>\n",
       "      <td>0.0</td>\n",
       "    </tr>\n",
       "    <tr>\n",
       "      <th>4</th>\n",
       "      <td>4</td>\n",
       "      <td>48</td>\n",
       "      <td>10</td>\n",
       "      <td>married</td>\n",
       "      <td>primary</td>\n",
       "      <td>0</td>\n",
       "      <td>42005</td>\n",
       "      <td>1</td>\n",
       "      <td>0</td>\n",
       "      <td>telephone</td>\n",
       "      <td>3</td>\n",
       "      <td>4</td>\n",
       "      <td>177</td>\n",
       "      <td>1</td>\n",
       "      <td>273</td>\n",
       "      <td>0</td>\n",
       "      <td>unknown</td>\n",
       "      <td>0.0</td>\n",
       "    </tr>\n",
       "    <tr>\n",
       "      <th>...</th>\n",
       "      <td>...</td>\n",
       "      <td>...</td>\n",
       "      <td>...</td>\n",
       "      <td>...</td>\n",
       "      <td>...</td>\n",
       "      <td>...</td>\n",
       "      <td>...</td>\n",
       "      <td>...</td>\n",
       "      <td>...</td>\n",
       "      <td>...</td>\n",
       "      <td>...</td>\n",
       "      <td>...</td>\n",
       "      <td>...</td>\n",
       "      <td>...</td>\n",
       "      <td>...</td>\n",
       "      <td>...</td>\n",
       "      <td>...</td>\n",
       "      <td>...</td>\n",
       "    </tr>\n",
       "    <tr>\n",
       "      <th>18045</th>\n",
       "      <td>18045</td>\n",
       "      <td>49</td>\n",
       "      <td>6</td>\n",
       "      <td>married</td>\n",
       "      <td>tertiary</td>\n",
       "      <td>0</td>\n",
       "      <td>98357</td>\n",
       "      <td>1</td>\n",
       "      <td>0</td>\n",
       "      <td>cellular</td>\n",
       "      <td>6</td>\n",
       "      <td>7</td>\n",
       "      <td>101</td>\n",
       "      <td>2</td>\n",
       "      <td>417</td>\n",
       "      <td>0</td>\n",
       "      <td>failure</td>\n",
       "      <td>NaN</td>\n",
       "    </tr>\n",
       "    <tr>\n",
       "      <th>18046</th>\n",
       "      <td>18046</td>\n",
       "      <td>34</td>\n",
       "      <td>1</td>\n",
       "      <td>married</td>\n",
       "      <td>secondary</td>\n",
       "      <td>0</td>\n",
       "      <td>29621</td>\n",
       "      <td>1</td>\n",
       "      <td>0</td>\n",
       "      <td>cellular</td>\n",
       "      <td>12</td>\n",
       "      <td>5</td>\n",
       "      <td>345</td>\n",
       "      <td>1</td>\n",
       "      <td>815</td>\n",
       "      <td>0</td>\n",
       "      <td>unknown</td>\n",
       "      <td>NaN</td>\n",
       "    </tr>\n",
       "    <tr>\n",
       "      <th>18047</th>\n",
       "      <td>18047</td>\n",
       "      <td>34</td>\n",
       "      <td>0</td>\n",
       "      <td>single</td>\n",
       "      <td>secondary</td>\n",
       "      <td>0</td>\n",
       "      <td>94260</td>\n",
       "      <td>1</td>\n",
       "      <td>0</td>\n",
       "      <td>unknown</td>\n",
       "      <td>16</td>\n",
       "      <td>5</td>\n",
       "      <td>121</td>\n",
       "      <td>2</td>\n",
       "      <td>370</td>\n",
       "      <td>0</td>\n",
       "      <td>unknown</td>\n",
       "      <td>NaN</td>\n",
       "    </tr>\n",
       "    <tr>\n",
       "      <th>18048</th>\n",
       "      <td>18048</td>\n",
       "      <td>31</td>\n",
       "      <td>9</td>\n",
       "      <td>single</td>\n",
       "      <td>secondary</td>\n",
       "      <td>0</td>\n",
       "      <td>65483</td>\n",
       "      <td>1</td>\n",
       "      <td>0</td>\n",
       "      <td>unknown</td>\n",
       "      <td>15</td>\n",
       "      <td>5</td>\n",
       "      <td>345</td>\n",
       "      <td>2</td>\n",
       "      <td>41</td>\n",
       "      <td>0</td>\n",
       "      <td>unknown</td>\n",
       "      <td>NaN</td>\n",
       "    </tr>\n",
       "    <tr>\n",
       "      <th>18049</th>\n",
       "      <td>18049</td>\n",
       "      <td>30</td>\n",
       "      <td>5</td>\n",
       "      <td>married</td>\n",
       "      <td>primary</td>\n",
       "      <td>0</td>\n",
       "      <td>6474</td>\n",
       "      <td>0</td>\n",
       "      <td>0</td>\n",
       "      <td>cellular</td>\n",
       "      <td>13</td>\n",
       "      <td>8</td>\n",
       "      <td>158</td>\n",
       "      <td>1</td>\n",
       "      <td>699</td>\n",
       "      <td>0</td>\n",
       "      <td>unknown</td>\n",
       "      <td>NaN</td>\n",
       "    </tr>\n",
       "  </tbody>\n",
       "</table>\n",
       "<p>45150 rows × 18 columns</p>\n",
       "</div>"
      ],
      "text/plain": [
       "          id  age  job  marital  education  default  balance  housing  loan  \\\n",
       "0          0   31    7  married  secondary        0    12294        1     0   \n",
       "1          1   29    2   single   tertiary        0    43027        0     0   \n",
       "2          2   35    4  married   tertiary        0    12252        1     0   \n",
       "3          3   31    9  married  secondary        0    99121        1     1   \n",
       "4          4   48   10  married    primary        0    42005        1     0   \n",
       "...      ...  ...  ...      ...        ...      ...      ...      ...   ...   \n",
       "18045  18045   49    6  married   tertiary        0    98357        1     0   \n",
       "18046  18046   34    1  married  secondary        0    29621        1     0   \n",
       "18047  18047   34    0   single  secondary        0    94260        1     0   \n",
       "18048  18048   31    9   single  secondary        0    65483        1     0   \n",
       "18049  18049   30    5  married    primary        0     6474        0     0   \n",
       "\n",
       "         contact  day  month  duration  campaign  pdays  previous poutcome  \\\n",
       "0       cellular   21     11       101         3    498         0    other   \n",
       "1       cellular   22      8       158         2    702         0  unknown   \n",
       "2       cellular   11     11       351         1    826         0  failure   \n",
       "3        unknown   16      5       658         2    120         0  failure   \n",
       "4      telephone    3      4       177         1    273         0  unknown   \n",
       "...          ...  ...    ...       ...       ...    ...       ...      ...   \n",
       "18045   cellular    6      7       101         2    417         0  failure   \n",
       "18046   cellular   12      5       345         1    815         0  unknown   \n",
       "18047    unknown   16      5       121         2    370         0  unknown   \n",
       "18048    unknown   15      5       345         2     41         0  unknown   \n",
       "18049   cellular   13      8       158         1    699         0  unknown   \n",
       "\n",
       "         y  \n",
       "0      0.0  \n",
       "1      1.0  \n",
       "2      0.0  \n",
       "3      0.0  \n",
       "4      0.0  \n",
       "...    ...  \n",
       "18045  NaN  \n",
       "18046  NaN  \n",
       "18047  NaN  \n",
       "18048  NaN  \n",
       "18049  NaN  \n",
       "\n",
       "[45150 rows x 18 columns]"
      ]
     },
     "execution_count": 10,
     "metadata": {},
     "output_type": "execute_result"
    }
   ],
   "source": [
    "from sklearn.preprocessing import LabelEncoder\n",
    "\n",
    "#LabelEncoderのインスタンスを生成\n",
    "le = LabelEncoder()\n",
    "#ラベルを覚えさせる\n",
    "le = le.fit(data['job'])\n",
    "#ラベルを整数に変換\n",
    "data['job'] = le.transform(data['job'])\n",
    "data"
   ]
  },
  {
   "cell_type": "code",
   "execution_count": 11,
   "metadata": {},
   "outputs": [
    {
     "data": {
      "text/html": [
       "<div>\n",
       "<style scoped>\n",
       "    .dataframe tbody tr th:only-of-type {\n",
       "        vertical-align: middle;\n",
       "    }\n",
       "\n",
       "    .dataframe tbody tr th {\n",
       "        vertical-align: top;\n",
       "    }\n",
       "\n",
       "    .dataframe thead th {\n",
       "        text-align: right;\n",
       "    }\n",
       "</style>\n",
       "<table border=\"1\" class=\"dataframe\">\n",
       "  <thead>\n",
       "    <tr style=\"text-align: right;\">\n",
       "      <th></th>\n",
       "      <th>id</th>\n",
       "      <th>age</th>\n",
       "      <th>job</th>\n",
       "      <th>marital</th>\n",
       "      <th>education</th>\n",
       "      <th>default</th>\n",
       "      <th>balance</th>\n",
       "      <th>housing</th>\n",
       "      <th>loan</th>\n",
       "      <th>contact</th>\n",
       "      <th>day</th>\n",
       "      <th>month</th>\n",
       "      <th>duration</th>\n",
       "      <th>campaign</th>\n",
       "      <th>pdays</th>\n",
       "      <th>previous</th>\n",
       "      <th>poutcome</th>\n",
       "      <th>y</th>\n",
       "    </tr>\n",
       "  </thead>\n",
       "  <tbody>\n",
       "    <tr>\n",
       "      <th>0</th>\n",
       "      <td>0</td>\n",
       "      <td>31</td>\n",
       "      <td>7</td>\n",
       "      <td>1</td>\n",
       "      <td>secondary</td>\n",
       "      <td>0</td>\n",
       "      <td>12294</td>\n",
       "      <td>1</td>\n",
       "      <td>0</td>\n",
       "      <td>cellular</td>\n",
       "      <td>21</td>\n",
       "      <td>11</td>\n",
       "      <td>101</td>\n",
       "      <td>3</td>\n",
       "      <td>498</td>\n",
       "      <td>0</td>\n",
       "      <td>other</td>\n",
       "      <td>0.0</td>\n",
       "    </tr>\n",
       "    <tr>\n",
       "      <th>1</th>\n",
       "      <td>1</td>\n",
       "      <td>29</td>\n",
       "      <td>2</td>\n",
       "      <td>2</td>\n",
       "      <td>tertiary</td>\n",
       "      <td>0</td>\n",
       "      <td>43027</td>\n",
       "      <td>0</td>\n",
       "      <td>0</td>\n",
       "      <td>cellular</td>\n",
       "      <td>22</td>\n",
       "      <td>8</td>\n",
       "      <td>158</td>\n",
       "      <td>2</td>\n",
       "      <td>702</td>\n",
       "      <td>0</td>\n",
       "      <td>unknown</td>\n",
       "      <td>1.0</td>\n",
       "    </tr>\n",
       "    <tr>\n",
       "      <th>2</th>\n",
       "      <td>2</td>\n",
       "      <td>35</td>\n",
       "      <td>4</td>\n",
       "      <td>1</td>\n",
       "      <td>tertiary</td>\n",
       "      <td>0</td>\n",
       "      <td>12252</td>\n",
       "      <td>1</td>\n",
       "      <td>0</td>\n",
       "      <td>cellular</td>\n",
       "      <td>11</td>\n",
       "      <td>11</td>\n",
       "      <td>351</td>\n",
       "      <td>1</td>\n",
       "      <td>826</td>\n",
       "      <td>0</td>\n",
       "      <td>failure</td>\n",
       "      <td>0.0</td>\n",
       "    </tr>\n",
       "    <tr>\n",
       "      <th>3</th>\n",
       "      <td>3</td>\n",
       "      <td>31</td>\n",
       "      <td>9</td>\n",
       "      <td>1</td>\n",
       "      <td>secondary</td>\n",
       "      <td>0</td>\n",
       "      <td>99121</td>\n",
       "      <td>1</td>\n",
       "      <td>1</td>\n",
       "      <td>unknown</td>\n",
       "      <td>16</td>\n",
       "      <td>5</td>\n",
       "      <td>658</td>\n",
       "      <td>2</td>\n",
       "      <td>120</td>\n",
       "      <td>0</td>\n",
       "      <td>failure</td>\n",
       "      <td>0.0</td>\n",
       "    </tr>\n",
       "    <tr>\n",
       "      <th>4</th>\n",
       "      <td>4</td>\n",
       "      <td>48</td>\n",
       "      <td>10</td>\n",
       "      <td>1</td>\n",
       "      <td>primary</td>\n",
       "      <td>0</td>\n",
       "      <td>42005</td>\n",
       "      <td>1</td>\n",
       "      <td>0</td>\n",
       "      <td>telephone</td>\n",
       "      <td>3</td>\n",
       "      <td>4</td>\n",
       "      <td>177</td>\n",
       "      <td>1</td>\n",
       "      <td>273</td>\n",
       "      <td>0</td>\n",
       "      <td>unknown</td>\n",
       "      <td>0.0</td>\n",
       "    </tr>\n",
       "    <tr>\n",
       "      <th>...</th>\n",
       "      <td>...</td>\n",
       "      <td>...</td>\n",
       "      <td>...</td>\n",
       "      <td>...</td>\n",
       "      <td>...</td>\n",
       "      <td>...</td>\n",
       "      <td>...</td>\n",
       "      <td>...</td>\n",
       "      <td>...</td>\n",
       "      <td>...</td>\n",
       "      <td>...</td>\n",
       "      <td>...</td>\n",
       "      <td>...</td>\n",
       "      <td>...</td>\n",
       "      <td>...</td>\n",
       "      <td>...</td>\n",
       "      <td>...</td>\n",
       "      <td>...</td>\n",
       "    </tr>\n",
       "    <tr>\n",
       "      <th>18045</th>\n",
       "      <td>18045</td>\n",
       "      <td>49</td>\n",
       "      <td>6</td>\n",
       "      <td>1</td>\n",
       "      <td>tertiary</td>\n",
       "      <td>0</td>\n",
       "      <td>98357</td>\n",
       "      <td>1</td>\n",
       "      <td>0</td>\n",
       "      <td>cellular</td>\n",
       "      <td>6</td>\n",
       "      <td>7</td>\n",
       "      <td>101</td>\n",
       "      <td>2</td>\n",
       "      <td>417</td>\n",
       "      <td>0</td>\n",
       "      <td>failure</td>\n",
       "      <td>NaN</td>\n",
       "    </tr>\n",
       "    <tr>\n",
       "      <th>18046</th>\n",
       "      <td>18046</td>\n",
       "      <td>34</td>\n",
       "      <td>1</td>\n",
       "      <td>1</td>\n",
       "      <td>secondary</td>\n",
       "      <td>0</td>\n",
       "      <td>29621</td>\n",
       "      <td>1</td>\n",
       "      <td>0</td>\n",
       "      <td>cellular</td>\n",
       "      <td>12</td>\n",
       "      <td>5</td>\n",
       "      <td>345</td>\n",
       "      <td>1</td>\n",
       "      <td>815</td>\n",
       "      <td>0</td>\n",
       "      <td>unknown</td>\n",
       "      <td>NaN</td>\n",
       "    </tr>\n",
       "    <tr>\n",
       "      <th>18047</th>\n",
       "      <td>18047</td>\n",
       "      <td>34</td>\n",
       "      <td>0</td>\n",
       "      <td>2</td>\n",
       "      <td>secondary</td>\n",
       "      <td>0</td>\n",
       "      <td>94260</td>\n",
       "      <td>1</td>\n",
       "      <td>0</td>\n",
       "      <td>unknown</td>\n",
       "      <td>16</td>\n",
       "      <td>5</td>\n",
       "      <td>121</td>\n",
       "      <td>2</td>\n",
       "      <td>370</td>\n",
       "      <td>0</td>\n",
       "      <td>unknown</td>\n",
       "      <td>NaN</td>\n",
       "    </tr>\n",
       "    <tr>\n",
       "      <th>18048</th>\n",
       "      <td>18048</td>\n",
       "      <td>31</td>\n",
       "      <td>9</td>\n",
       "      <td>2</td>\n",
       "      <td>secondary</td>\n",
       "      <td>0</td>\n",
       "      <td>65483</td>\n",
       "      <td>1</td>\n",
       "      <td>0</td>\n",
       "      <td>unknown</td>\n",
       "      <td>15</td>\n",
       "      <td>5</td>\n",
       "      <td>345</td>\n",
       "      <td>2</td>\n",
       "      <td>41</td>\n",
       "      <td>0</td>\n",
       "      <td>unknown</td>\n",
       "      <td>NaN</td>\n",
       "    </tr>\n",
       "    <tr>\n",
       "      <th>18049</th>\n",
       "      <td>18049</td>\n",
       "      <td>30</td>\n",
       "      <td>5</td>\n",
       "      <td>1</td>\n",
       "      <td>primary</td>\n",
       "      <td>0</td>\n",
       "      <td>6474</td>\n",
       "      <td>0</td>\n",
       "      <td>0</td>\n",
       "      <td>cellular</td>\n",
       "      <td>13</td>\n",
       "      <td>8</td>\n",
       "      <td>158</td>\n",
       "      <td>1</td>\n",
       "      <td>699</td>\n",
       "      <td>0</td>\n",
       "      <td>unknown</td>\n",
       "      <td>NaN</td>\n",
       "    </tr>\n",
       "  </tbody>\n",
       "</table>\n",
       "<p>45150 rows × 18 columns</p>\n",
       "</div>"
      ],
      "text/plain": [
       "          id  age  job  marital  education  default  balance  housing  loan  \\\n",
       "0          0   31    7        1  secondary        0    12294        1     0   \n",
       "1          1   29    2        2   tertiary        0    43027        0     0   \n",
       "2          2   35    4        1   tertiary        0    12252        1     0   \n",
       "3          3   31    9        1  secondary        0    99121        1     1   \n",
       "4          4   48   10        1    primary        0    42005        1     0   \n",
       "...      ...  ...  ...      ...        ...      ...      ...      ...   ...   \n",
       "18045  18045   49    6        1   tertiary        0    98357        1     0   \n",
       "18046  18046   34    1        1  secondary        0    29621        1     0   \n",
       "18047  18047   34    0        2  secondary        0    94260        1     0   \n",
       "18048  18048   31    9        2  secondary        0    65483        1     0   \n",
       "18049  18049   30    5        1    primary        0     6474        0     0   \n",
       "\n",
       "         contact  day  month  duration  campaign  pdays  previous poutcome  \\\n",
       "0       cellular   21     11       101         3    498         0    other   \n",
       "1       cellular   22      8       158         2    702         0  unknown   \n",
       "2       cellular   11     11       351         1    826         0  failure   \n",
       "3        unknown   16      5       658         2    120         0  failure   \n",
       "4      telephone    3      4       177         1    273         0  unknown   \n",
       "...          ...  ...    ...       ...       ...    ...       ...      ...   \n",
       "18045   cellular    6      7       101         2    417         0  failure   \n",
       "18046   cellular   12      5       345         1    815         0  unknown   \n",
       "18047    unknown   16      5       121         2    370         0  unknown   \n",
       "18048    unknown   15      5       345         2     41         0  unknown   \n",
       "18049   cellular   13      8       158         1    699         0  unknown   \n",
       "\n",
       "         y  \n",
       "0      0.0  \n",
       "1      1.0  \n",
       "2      0.0  \n",
       "3      0.0  \n",
       "4      0.0  \n",
       "...    ...  \n",
       "18045  NaN  \n",
       "18046  NaN  \n",
       "18047  NaN  \n",
       "18048  NaN  \n",
       "18049  NaN  \n",
       "\n",
       "[45150 rows x 18 columns]"
      ]
     },
     "execution_count": 11,
     "metadata": {},
     "output_type": "execute_result"
    }
   ],
   "source": [
    "le = le.fit(data['marital'])\n",
    "data['marital'] = le.transform(data['marital'])\n",
    "data"
   ]
  },
  {
   "cell_type": "code",
   "execution_count": 12,
   "metadata": {},
   "outputs": [
    {
     "data": {
      "text/html": [
       "<div>\n",
       "<style scoped>\n",
       "    .dataframe tbody tr th:only-of-type {\n",
       "        vertical-align: middle;\n",
       "    }\n",
       "\n",
       "    .dataframe tbody tr th {\n",
       "        vertical-align: top;\n",
       "    }\n",
       "\n",
       "    .dataframe thead th {\n",
       "        text-align: right;\n",
       "    }\n",
       "</style>\n",
       "<table border=\"1\" class=\"dataframe\">\n",
       "  <thead>\n",
       "    <tr style=\"text-align: right;\">\n",
       "      <th></th>\n",
       "      <th>id</th>\n",
       "      <th>age</th>\n",
       "      <th>job</th>\n",
       "      <th>marital</th>\n",
       "      <th>education</th>\n",
       "      <th>default</th>\n",
       "      <th>balance</th>\n",
       "      <th>housing</th>\n",
       "      <th>loan</th>\n",
       "      <th>contact</th>\n",
       "      <th>day</th>\n",
       "      <th>month</th>\n",
       "      <th>duration</th>\n",
       "      <th>campaign</th>\n",
       "      <th>pdays</th>\n",
       "      <th>previous</th>\n",
       "      <th>poutcome</th>\n",
       "      <th>y</th>\n",
       "    </tr>\n",
       "  </thead>\n",
       "  <tbody>\n",
       "    <tr>\n",
       "      <th>0</th>\n",
       "      <td>0</td>\n",
       "      <td>31</td>\n",
       "      <td>7</td>\n",
       "      <td>1</td>\n",
       "      <td>1</td>\n",
       "      <td>0</td>\n",
       "      <td>12294</td>\n",
       "      <td>1</td>\n",
       "      <td>0</td>\n",
       "      <td>cellular</td>\n",
       "      <td>21</td>\n",
       "      <td>11</td>\n",
       "      <td>101</td>\n",
       "      <td>3</td>\n",
       "      <td>498</td>\n",
       "      <td>0</td>\n",
       "      <td>other</td>\n",
       "      <td>0.0</td>\n",
       "    </tr>\n",
       "    <tr>\n",
       "      <th>1</th>\n",
       "      <td>1</td>\n",
       "      <td>29</td>\n",
       "      <td>2</td>\n",
       "      <td>2</td>\n",
       "      <td>2</td>\n",
       "      <td>0</td>\n",
       "      <td>43027</td>\n",
       "      <td>0</td>\n",
       "      <td>0</td>\n",
       "      <td>cellular</td>\n",
       "      <td>22</td>\n",
       "      <td>8</td>\n",
       "      <td>158</td>\n",
       "      <td>2</td>\n",
       "      <td>702</td>\n",
       "      <td>0</td>\n",
       "      <td>unknown</td>\n",
       "      <td>1.0</td>\n",
       "    </tr>\n",
       "    <tr>\n",
       "      <th>2</th>\n",
       "      <td>2</td>\n",
       "      <td>35</td>\n",
       "      <td>4</td>\n",
       "      <td>1</td>\n",
       "      <td>2</td>\n",
       "      <td>0</td>\n",
       "      <td>12252</td>\n",
       "      <td>1</td>\n",
       "      <td>0</td>\n",
       "      <td>cellular</td>\n",
       "      <td>11</td>\n",
       "      <td>11</td>\n",
       "      <td>351</td>\n",
       "      <td>1</td>\n",
       "      <td>826</td>\n",
       "      <td>0</td>\n",
       "      <td>failure</td>\n",
       "      <td>0.0</td>\n",
       "    </tr>\n",
       "    <tr>\n",
       "      <th>3</th>\n",
       "      <td>3</td>\n",
       "      <td>31</td>\n",
       "      <td>9</td>\n",
       "      <td>1</td>\n",
       "      <td>1</td>\n",
       "      <td>0</td>\n",
       "      <td>99121</td>\n",
       "      <td>1</td>\n",
       "      <td>1</td>\n",
       "      <td>unknown</td>\n",
       "      <td>16</td>\n",
       "      <td>5</td>\n",
       "      <td>658</td>\n",
       "      <td>2</td>\n",
       "      <td>120</td>\n",
       "      <td>0</td>\n",
       "      <td>failure</td>\n",
       "      <td>0.0</td>\n",
       "    </tr>\n",
       "    <tr>\n",
       "      <th>4</th>\n",
       "      <td>4</td>\n",
       "      <td>48</td>\n",
       "      <td>10</td>\n",
       "      <td>1</td>\n",
       "      <td>0</td>\n",
       "      <td>0</td>\n",
       "      <td>42005</td>\n",
       "      <td>1</td>\n",
       "      <td>0</td>\n",
       "      <td>telephone</td>\n",
       "      <td>3</td>\n",
       "      <td>4</td>\n",
       "      <td>177</td>\n",
       "      <td>1</td>\n",
       "      <td>273</td>\n",
       "      <td>0</td>\n",
       "      <td>unknown</td>\n",
       "      <td>0.0</td>\n",
       "    </tr>\n",
       "    <tr>\n",
       "      <th>...</th>\n",
       "      <td>...</td>\n",
       "      <td>...</td>\n",
       "      <td>...</td>\n",
       "      <td>...</td>\n",
       "      <td>...</td>\n",
       "      <td>...</td>\n",
       "      <td>...</td>\n",
       "      <td>...</td>\n",
       "      <td>...</td>\n",
       "      <td>...</td>\n",
       "      <td>...</td>\n",
       "      <td>...</td>\n",
       "      <td>...</td>\n",
       "      <td>...</td>\n",
       "      <td>...</td>\n",
       "      <td>...</td>\n",
       "      <td>...</td>\n",
       "      <td>...</td>\n",
       "    </tr>\n",
       "    <tr>\n",
       "      <th>18045</th>\n",
       "      <td>18045</td>\n",
       "      <td>49</td>\n",
       "      <td>6</td>\n",
       "      <td>1</td>\n",
       "      <td>2</td>\n",
       "      <td>0</td>\n",
       "      <td>98357</td>\n",
       "      <td>1</td>\n",
       "      <td>0</td>\n",
       "      <td>cellular</td>\n",
       "      <td>6</td>\n",
       "      <td>7</td>\n",
       "      <td>101</td>\n",
       "      <td>2</td>\n",
       "      <td>417</td>\n",
       "      <td>0</td>\n",
       "      <td>failure</td>\n",
       "      <td>NaN</td>\n",
       "    </tr>\n",
       "    <tr>\n",
       "      <th>18046</th>\n",
       "      <td>18046</td>\n",
       "      <td>34</td>\n",
       "      <td>1</td>\n",
       "      <td>1</td>\n",
       "      <td>1</td>\n",
       "      <td>0</td>\n",
       "      <td>29621</td>\n",
       "      <td>1</td>\n",
       "      <td>0</td>\n",
       "      <td>cellular</td>\n",
       "      <td>12</td>\n",
       "      <td>5</td>\n",
       "      <td>345</td>\n",
       "      <td>1</td>\n",
       "      <td>815</td>\n",
       "      <td>0</td>\n",
       "      <td>unknown</td>\n",
       "      <td>NaN</td>\n",
       "    </tr>\n",
       "    <tr>\n",
       "      <th>18047</th>\n",
       "      <td>18047</td>\n",
       "      <td>34</td>\n",
       "      <td>0</td>\n",
       "      <td>2</td>\n",
       "      <td>1</td>\n",
       "      <td>0</td>\n",
       "      <td>94260</td>\n",
       "      <td>1</td>\n",
       "      <td>0</td>\n",
       "      <td>unknown</td>\n",
       "      <td>16</td>\n",
       "      <td>5</td>\n",
       "      <td>121</td>\n",
       "      <td>2</td>\n",
       "      <td>370</td>\n",
       "      <td>0</td>\n",
       "      <td>unknown</td>\n",
       "      <td>NaN</td>\n",
       "    </tr>\n",
       "    <tr>\n",
       "      <th>18048</th>\n",
       "      <td>18048</td>\n",
       "      <td>31</td>\n",
       "      <td>9</td>\n",
       "      <td>2</td>\n",
       "      <td>1</td>\n",
       "      <td>0</td>\n",
       "      <td>65483</td>\n",
       "      <td>1</td>\n",
       "      <td>0</td>\n",
       "      <td>unknown</td>\n",
       "      <td>15</td>\n",
       "      <td>5</td>\n",
       "      <td>345</td>\n",
       "      <td>2</td>\n",
       "      <td>41</td>\n",
       "      <td>0</td>\n",
       "      <td>unknown</td>\n",
       "      <td>NaN</td>\n",
       "    </tr>\n",
       "    <tr>\n",
       "      <th>18049</th>\n",
       "      <td>18049</td>\n",
       "      <td>30</td>\n",
       "      <td>5</td>\n",
       "      <td>1</td>\n",
       "      <td>0</td>\n",
       "      <td>0</td>\n",
       "      <td>6474</td>\n",
       "      <td>0</td>\n",
       "      <td>0</td>\n",
       "      <td>cellular</td>\n",
       "      <td>13</td>\n",
       "      <td>8</td>\n",
       "      <td>158</td>\n",
       "      <td>1</td>\n",
       "      <td>699</td>\n",
       "      <td>0</td>\n",
       "      <td>unknown</td>\n",
       "      <td>NaN</td>\n",
       "    </tr>\n",
       "  </tbody>\n",
       "</table>\n",
       "<p>45150 rows × 18 columns</p>\n",
       "</div>"
      ],
      "text/plain": [
       "          id  age  job  marital  education  default  balance  housing  loan  \\\n",
       "0          0   31    7        1          1        0    12294        1     0   \n",
       "1          1   29    2        2          2        0    43027        0     0   \n",
       "2          2   35    4        1          2        0    12252        1     0   \n",
       "3          3   31    9        1          1        0    99121        1     1   \n",
       "4          4   48   10        1          0        0    42005        1     0   \n",
       "...      ...  ...  ...      ...        ...      ...      ...      ...   ...   \n",
       "18045  18045   49    6        1          2        0    98357        1     0   \n",
       "18046  18046   34    1        1          1        0    29621        1     0   \n",
       "18047  18047   34    0        2          1        0    94260        1     0   \n",
       "18048  18048   31    9        2          1        0    65483        1     0   \n",
       "18049  18049   30    5        1          0        0     6474        0     0   \n",
       "\n",
       "         contact  day  month  duration  campaign  pdays  previous poutcome  \\\n",
       "0       cellular   21     11       101         3    498         0    other   \n",
       "1       cellular   22      8       158         2    702         0  unknown   \n",
       "2       cellular   11     11       351         1    826         0  failure   \n",
       "3        unknown   16      5       658         2    120         0  failure   \n",
       "4      telephone    3      4       177         1    273         0  unknown   \n",
       "...          ...  ...    ...       ...       ...    ...       ...      ...   \n",
       "18045   cellular    6      7       101         2    417         0  failure   \n",
       "18046   cellular   12      5       345         1    815         0  unknown   \n",
       "18047    unknown   16      5       121         2    370         0  unknown   \n",
       "18048    unknown   15      5       345         2     41         0  unknown   \n",
       "18049   cellular   13      8       158         1    699         0  unknown   \n",
       "\n",
       "         y  \n",
       "0      0.0  \n",
       "1      1.0  \n",
       "2      0.0  \n",
       "3      0.0  \n",
       "4      0.0  \n",
       "...    ...  \n",
       "18045  NaN  \n",
       "18046  NaN  \n",
       "18047  NaN  \n",
       "18048  NaN  \n",
       "18049  NaN  \n",
       "\n",
       "[45150 rows x 18 columns]"
      ]
     },
     "execution_count": 12,
     "metadata": {},
     "output_type": "execute_result"
    }
   ],
   "source": [
    "le = le.fit(data['education'])\n",
    "data['education'] = le.transform(data['education'])\n",
    "data"
   ]
  },
  {
   "cell_type": "code",
   "execution_count": 13,
   "metadata": {},
   "outputs": [
    {
     "data": {
      "text/html": [
       "<div>\n",
       "<style scoped>\n",
       "    .dataframe tbody tr th:only-of-type {\n",
       "        vertical-align: middle;\n",
       "    }\n",
       "\n",
       "    .dataframe tbody tr th {\n",
       "        vertical-align: top;\n",
       "    }\n",
       "\n",
       "    .dataframe thead th {\n",
       "        text-align: right;\n",
       "    }\n",
       "</style>\n",
       "<table border=\"1\" class=\"dataframe\">\n",
       "  <thead>\n",
       "    <tr style=\"text-align: right;\">\n",
       "      <th></th>\n",
       "      <th>id</th>\n",
       "      <th>age</th>\n",
       "      <th>job</th>\n",
       "      <th>marital</th>\n",
       "      <th>education</th>\n",
       "      <th>default</th>\n",
       "      <th>balance</th>\n",
       "      <th>housing</th>\n",
       "      <th>loan</th>\n",
       "      <th>contact</th>\n",
       "      <th>day</th>\n",
       "      <th>month</th>\n",
       "      <th>duration</th>\n",
       "      <th>campaign</th>\n",
       "      <th>pdays</th>\n",
       "      <th>previous</th>\n",
       "      <th>poutcome</th>\n",
       "      <th>y</th>\n",
       "    </tr>\n",
       "  </thead>\n",
       "  <tbody>\n",
       "    <tr>\n",
       "      <th>0</th>\n",
       "      <td>0</td>\n",
       "      <td>31</td>\n",
       "      <td>7</td>\n",
       "      <td>1</td>\n",
       "      <td>1</td>\n",
       "      <td>0</td>\n",
       "      <td>12294</td>\n",
       "      <td>1</td>\n",
       "      <td>0</td>\n",
       "      <td>0</td>\n",
       "      <td>21</td>\n",
       "      <td>11</td>\n",
       "      <td>101</td>\n",
       "      <td>3</td>\n",
       "      <td>498</td>\n",
       "      <td>0</td>\n",
       "      <td>other</td>\n",
       "      <td>0.0</td>\n",
       "    </tr>\n",
       "    <tr>\n",
       "      <th>1</th>\n",
       "      <td>1</td>\n",
       "      <td>29</td>\n",
       "      <td>2</td>\n",
       "      <td>2</td>\n",
       "      <td>2</td>\n",
       "      <td>0</td>\n",
       "      <td>43027</td>\n",
       "      <td>0</td>\n",
       "      <td>0</td>\n",
       "      <td>0</td>\n",
       "      <td>22</td>\n",
       "      <td>8</td>\n",
       "      <td>158</td>\n",
       "      <td>2</td>\n",
       "      <td>702</td>\n",
       "      <td>0</td>\n",
       "      <td>unknown</td>\n",
       "      <td>1.0</td>\n",
       "    </tr>\n",
       "    <tr>\n",
       "      <th>2</th>\n",
       "      <td>2</td>\n",
       "      <td>35</td>\n",
       "      <td>4</td>\n",
       "      <td>1</td>\n",
       "      <td>2</td>\n",
       "      <td>0</td>\n",
       "      <td>12252</td>\n",
       "      <td>1</td>\n",
       "      <td>0</td>\n",
       "      <td>0</td>\n",
       "      <td>11</td>\n",
       "      <td>11</td>\n",
       "      <td>351</td>\n",
       "      <td>1</td>\n",
       "      <td>826</td>\n",
       "      <td>0</td>\n",
       "      <td>failure</td>\n",
       "      <td>0.0</td>\n",
       "    </tr>\n",
       "    <tr>\n",
       "      <th>3</th>\n",
       "      <td>3</td>\n",
       "      <td>31</td>\n",
       "      <td>9</td>\n",
       "      <td>1</td>\n",
       "      <td>1</td>\n",
       "      <td>0</td>\n",
       "      <td>99121</td>\n",
       "      <td>1</td>\n",
       "      <td>1</td>\n",
       "      <td>2</td>\n",
       "      <td>16</td>\n",
       "      <td>5</td>\n",
       "      <td>658</td>\n",
       "      <td>2</td>\n",
       "      <td>120</td>\n",
       "      <td>0</td>\n",
       "      <td>failure</td>\n",
       "      <td>0.0</td>\n",
       "    </tr>\n",
       "    <tr>\n",
       "      <th>4</th>\n",
       "      <td>4</td>\n",
       "      <td>48</td>\n",
       "      <td>10</td>\n",
       "      <td>1</td>\n",
       "      <td>0</td>\n",
       "      <td>0</td>\n",
       "      <td>42005</td>\n",
       "      <td>1</td>\n",
       "      <td>0</td>\n",
       "      <td>1</td>\n",
       "      <td>3</td>\n",
       "      <td>4</td>\n",
       "      <td>177</td>\n",
       "      <td>1</td>\n",
       "      <td>273</td>\n",
       "      <td>0</td>\n",
       "      <td>unknown</td>\n",
       "      <td>0.0</td>\n",
       "    </tr>\n",
       "    <tr>\n",
       "      <th>...</th>\n",
       "      <td>...</td>\n",
       "      <td>...</td>\n",
       "      <td>...</td>\n",
       "      <td>...</td>\n",
       "      <td>...</td>\n",
       "      <td>...</td>\n",
       "      <td>...</td>\n",
       "      <td>...</td>\n",
       "      <td>...</td>\n",
       "      <td>...</td>\n",
       "      <td>...</td>\n",
       "      <td>...</td>\n",
       "      <td>...</td>\n",
       "      <td>...</td>\n",
       "      <td>...</td>\n",
       "      <td>...</td>\n",
       "      <td>...</td>\n",
       "      <td>...</td>\n",
       "    </tr>\n",
       "    <tr>\n",
       "      <th>18045</th>\n",
       "      <td>18045</td>\n",
       "      <td>49</td>\n",
       "      <td>6</td>\n",
       "      <td>1</td>\n",
       "      <td>2</td>\n",
       "      <td>0</td>\n",
       "      <td>98357</td>\n",
       "      <td>1</td>\n",
       "      <td>0</td>\n",
       "      <td>0</td>\n",
       "      <td>6</td>\n",
       "      <td>7</td>\n",
       "      <td>101</td>\n",
       "      <td>2</td>\n",
       "      <td>417</td>\n",
       "      <td>0</td>\n",
       "      <td>failure</td>\n",
       "      <td>NaN</td>\n",
       "    </tr>\n",
       "    <tr>\n",
       "      <th>18046</th>\n",
       "      <td>18046</td>\n",
       "      <td>34</td>\n",
       "      <td>1</td>\n",
       "      <td>1</td>\n",
       "      <td>1</td>\n",
       "      <td>0</td>\n",
       "      <td>29621</td>\n",
       "      <td>1</td>\n",
       "      <td>0</td>\n",
       "      <td>0</td>\n",
       "      <td>12</td>\n",
       "      <td>5</td>\n",
       "      <td>345</td>\n",
       "      <td>1</td>\n",
       "      <td>815</td>\n",
       "      <td>0</td>\n",
       "      <td>unknown</td>\n",
       "      <td>NaN</td>\n",
       "    </tr>\n",
       "    <tr>\n",
       "      <th>18047</th>\n",
       "      <td>18047</td>\n",
       "      <td>34</td>\n",
       "      <td>0</td>\n",
       "      <td>2</td>\n",
       "      <td>1</td>\n",
       "      <td>0</td>\n",
       "      <td>94260</td>\n",
       "      <td>1</td>\n",
       "      <td>0</td>\n",
       "      <td>2</td>\n",
       "      <td>16</td>\n",
       "      <td>5</td>\n",
       "      <td>121</td>\n",
       "      <td>2</td>\n",
       "      <td>370</td>\n",
       "      <td>0</td>\n",
       "      <td>unknown</td>\n",
       "      <td>NaN</td>\n",
       "    </tr>\n",
       "    <tr>\n",
       "      <th>18048</th>\n",
       "      <td>18048</td>\n",
       "      <td>31</td>\n",
       "      <td>9</td>\n",
       "      <td>2</td>\n",
       "      <td>1</td>\n",
       "      <td>0</td>\n",
       "      <td>65483</td>\n",
       "      <td>1</td>\n",
       "      <td>0</td>\n",
       "      <td>2</td>\n",
       "      <td>15</td>\n",
       "      <td>5</td>\n",
       "      <td>345</td>\n",
       "      <td>2</td>\n",
       "      <td>41</td>\n",
       "      <td>0</td>\n",
       "      <td>unknown</td>\n",
       "      <td>NaN</td>\n",
       "    </tr>\n",
       "    <tr>\n",
       "      <th>18049</th>\n",
       "      <td>18049</td>\n",
       "      <td>30</td>\n",
       "      <td>5</td>\n",
       "      <td>1</td>\n",
       "      <td>0</td>\n",
       "      <td>0</td>\n",
       "      <td>6474</td>\n",
       "      <td>0</td>\n",
       "      <td>0</td>\n",
       "      <td>0</td>\n",
       "      <td>13</td>\n",
       "      <td>8</td>\n",
       "      <td>158</td>\n",
       "      <td>1</td>\n",
       "      <td>699</td>\n",
       "      <td>0</td>\n",
       "      <td>unknown</td>\n",
       "      <td>NaN</td>\n",
       "    </tr>\n",
       "  </tbody>\n",
       "</table>\n",
       "<p>45150 rows × 18 columns</p>\n",
       "</div>"
      ],
      "text/plain": [
       "          id  age  job  marital  education  default  balance  housing  loan  \\\n",
       "0          0   31    7        1          1        0    12294        1     0   \n",
       "1          1   29    2        2          2        0    43027        0     0   \n",
       "2          2   35    4        1          2        0    12252        1     0   \n",
       "3          3   31    9        1          1        0    99121        1     1   \n",
       "4          4   48   10        1          0        0    42005        1     0   \n",
       "...      ...  ...  ...      ...        ...      ...      ...      ...   ...   \n",
       "18045  18045   49    6        1          2        0    98357        1     0   \n",
       "18046  18046   34    1        1          1        0    29621        1     0   \n",
       "18047  18047   34    0        2          1        0    94260        1     0   \n",
       "18048  18048   31    9        2          1        0    65483        1     0   \n",
       "18049  18049   30    5        1          0        0     6474        0     0   \n",
       "\n",
       "       contact  day  month  duration  campaign  pdays  previous poutcome    y  \n",
       "0            0   21     11       101         3    498         0    other  0.0  \n",
       "1            0   22      8       158         2    702         0  unknown  1.0  \n",
       "2            0   11     11       351         1    826         0  failure  0.0  \n",
       "3            2   16      5       658         2    120         0  failure  0.0  \n",
       "4            1    3      4       177         1    273         0  unknown  0.0  \n",
       "...        ...  ...    ...       ...       ...    ...       ...      ...  ...  \n",
       "18045        0    6      7       101         2    417         0  failure  NaN  \n",
       "18046        0   12      5       345         1    815         0  unknown  NaN  \n",
       "18047        2   16      5       121         2    370         0  unknown  NaN  \n",
       "18048        2   15      5       345         2     41         0  unknown  NaN  \n",
       "18049        0   13      8       158         1    699         0  unknown  NaN  \n",
       "\n",
       "[45150 rows x 18 columns]"
      ]
     },
     "execution_count": 13,
     "metadata": {},
     "output_type": "execute_result"
    }
   ],
   "source": [
    "le = le.fit(data['contact'])\n",
    "data['contact'] = le.transform(data['contact'])\n",
    "data"
   ]
  },
  {
   "cell_type": "code",
   "execution_count": 14,
   "metadata": {},
   "outputs": [
    {
     "data": {
      "text/html": [
       "<div>\n",
       "<style scoped>\n",
       "    .dataframe tbody tr th:only-of-type {\n",
       "        vertical-align: middle;\n",
       "    }\n",
       "\n",
       "    .dataframe tbody tr th {\n",
       "        vertical-align: top;\n",
       "    }\n",
       "\n",
       "    .dataframe thead th {\n",
       "        text-align: right;\n",
       "    }\n",
       "</style>\n",
       "<table border=\"1\" class=\"dataframe\">\n",
       "  <thead>\n",
       "    <tr style=\"text-align: right;\">\n",
       "      <th></th>\n",
       "      <th>id</th>\n",
       "      <th>age</th>\n",
       "      <th>job</th>\n",
       "      <th>marital</th>\n",
       "      <th>education</th>\n",
       "      <th>default</th>\n",
       "      <th>balance</th>\n",
       "      <th>housing</th>\n",
       "      <th>loan</th>\n",
       "      <th>contact</th>\n",
       "      <th>day</th>\n",
       "      <th>month</th>\n",
       "      <th>duration</th>\n",
       "      <th>campaign</th>\n",
       "      <th>pdays</th>\n",
       "      <th>previous</th>\n",
       "      <th>poutcome</th>\n",
       "      <th>y</th>\n",
       "    </tr>\n",
       "  </thead>\n",
       "  <tbody>\n",
       "    <tr>\n",
       "      <th>0</th>\n",
       "      <td>0</td>\n",
       "      <td>31</td>\n",
       "      <td>7</td>\n",
       "      <td>1</td>\n",
       "      <td>1</td>\n",
       "      <td>0</td>\n",
       "      <td>12294</td>\n",
       "      <td>1</td>\n",
       "      <td>0</td>\n",
       "      <td>0</td>\n",
       "      <td>21</td>\n",
       "      <td>11</td>\n",
       "      <td>101</td>\n",
       "      <td>3</td>\n",
       "      <td>498</td>\n",
       "      <td>0</td>\n",
       "      <td>1</td>\n",
       "      <td>0.0</td>\n",
       "    </tr>\n",
       "    <tr>\n",
       "      <th>1</th>\n",
       "      <td>1</td>\n",
       "      <td>29</td>\n",
       "      <td>2</td>\n",
       "      <td>2</td>\n",
       "      <td>2</td>\n",
       "      <td>0</td>\n",
       "      <td>43027</td>\n",
       "      <td>0</td>\n",
       "      <td>0</td>\n",
       "      <td>0</td>\n",
       "      <td>22</td>\n",
       "      <td>8</td>\n",
       "      <td>158</td>\n",
       "      <td>2</td>\n",
       "      <td>702</td>\n",
       "      <td>0</td>\n",
       "      <td>3</td>\n",
       "      <td>1.0</td>\n",
       "    </tr>\n",
       "    <tr>\n",
       "      <th>2</th>\n",
       "      <td>2</td>\n",
       "      <td>35</td>\n",
       "      <td>4</td>\n",
       "      <td>1</td>\n",
       "      <td>2</td>\n",
       "      <td>0</td>\n",
       "      <td>12252</td>\n",
       "      <td>1</td>\n",
       "      <td>0</td>\n",
       "      <td>0</td>\n",
       "      <td>11</td>\n",
       "      <td>11</td>\n",
       "      <td>351</td>\n",
       "      <td>1</td>\n",
       "      <td>826</td>\n",
       "      <td>0</td>\n",
       "      <td>0</td>\n",
       "      <td>0.0</td>\n",
       "    </tr>\n",
       "    <tr>\n",
       "      <th>3</th>\n",
       "      <td>3</td>\n",
       "      <td>31</td>\n",
       "      <td>9</td>\n",
       "      <td>1</td>\n",
       "      <td>1</td>\n",
       "      <td>0</td>\n",
       "      <td>99121</td>\n",
       "      <td>1</td>\n",
       "      <td>1</td>\n",
       "      <td>2</td>\n",
       "      <td>16</td>\n",
       "      <td>5</td>\n",
       "      <td>658</td>\n",
       "      <td>2</td>\n",
       "      <td>120</td>\n",
       "      <td>0</td>\n",
       "      <td>0</td>\n",
       "      <td>0.0</td>\n",
       "    </tr>\n",
       "    <tr>\n",
       "      <th>4</th>\n",
       "      <td>4</td>\n",
       "      <td>48</td>\n",
       "      <td>10</td>\n",
       "      <td>1</td>\n",
       "      <td>0</td>\n",
       "      <td>0</td>\n",
       "      <td>42005</td>\n",
       "      <td>1</td>\n",
       "      <td>0</td>\n",
       "      <td>1</td>\n",
       "      <td>3</td>\n",
       "      <td>4</td>\n",
       "      <td>177</td>\n",
       "      <td>1</td>\n",
       "      <td>273</td>\n",
       "      <td>0</td>\n",
       "      <td>3</td>\n",
       "      <td>0.0</td>\n",
       "    </tr>\n",
       "    <tr>\n",
       "      <th>...</th>\n",
       "      <td>...</td>\n",
       "      <td>...</td>\n",
       "      <td>...</td>\n",
       "      <td>...</td>\n",
       "      <td>...</td>\n",
       "      <td>...</td>\n",
       "      <td>...</td>\n",
       "      <td>...</td>\n",
       "      <td>...</td>\n",
       "      <td>...</td>\n",
       "      <td>...</td>\n",
       "      <td>...</td>\n",
       "      <td>...</td>\n",
       "      <td>...</td>\n",
       "      <td>...</td>\n",
       "      <td>...</td>\n",
       "      <td>...</td>\n",
       "      <td>...</td>\n",
       "    </tr>\n",
       "    <tr>\n",
       "      <th>18045</th>\n",
       "      <td>18045</td>\n",
       "      <td>49</td>\n",
       "      <td>6</td>\n",
       "      <td>1</td>\n",
       "      <td>2</td>\n",
       "      <td>0</td>\n",
       "      <td>98357</td>\n",
       "      <td>1</td>\n",
       "      <td>0</td>\n",
       "      <td>0</td>\n",
       "      <td>6</td>\n",
       "      <td>7</td>\n",
       "      <td>101</td>\n",
       "      <td>2</td>\n",
       "      <td>417</td>\n",
       "      <td>0</td>\n",
       "      <td>0</td>\n",
       "      <td>NaN</td>\n",
       "    </tr>\n",
       "    <tr>\n",
       "      <th>18046</th>\n",
       "      <td>18046</td>\n",
       "      <td>34</td>\n",
       "      <td>1</td>\n",
       "      <td>1</td>\n",
       "      <td>1</td>\n",
       "      <td>0</td>\n",
       "      <td>29621</td>\n",
       "      <td>1</td>\n",
       "      <td>0</td>\n",
       "      <td>0</td>\n",
       "      <td>12</td>\n",
       "      <td>5</td>\n",
       "      <td>345</td>\n",
       "      <td>1</td>\n",
       "      <td>815</td>\n",
       "      <td>0</td>\n",
       "      <td>3</td>\n",
       "      <td>NaN</td>\n",
       "    </tr>\n",
       "    <tr>\n",
       "      <th>18047</th>\n",
       "      <td>18047</td>\n",
       "      <td>34</td>\n",
       "      <td>0</td>\n",
       "      <td>2</td>\n",
       "      <td>1</td>\n",
       "      <td>0</td>\n",
       "      <td>94260</td>\n",
       "      <td>1</td>\n",
       "      <td>0</td>\n",
       "      <td>2</td>\n",
       "      <td>16</td>\n",
       "      <td>5</td>\n",
       "      <td>121</td>\n",
       "      <td>2</td>\n",
       "      <td>370</td>\n",
       "      <td>0</td>\n",
       "      <td>3</td>\n",
       "      <td>NaN</td>\n",
       "    </tr>\n",
       "    <tr>\n",
       "      <th>18048</th>\n",
       "      <td>18048</td>\n",
       "      <td>31</td>\n",
       "      <td>9</td>\n",
       "      <td>2</td>\n",
       "      <td>1</td>\n",
       "      <td>0</td>\n",
       "      <td>65483</td>\n",
       "      <td>1</td>\n",
       "      <td>0</td>\n",
       "      <td>2</td>\n",
       "      <td>15</td>\n",
       "      <td>5</td>\n",
       "      <td>345</td>\n",
       "      <td>2</td>\n",
       "      <td>41</td>\n",
       "      <td>0</td>\n",
       "      <td>3</td>\n",
       "      <td>NaN</td>\n",
       "    </tr>\n",
       "    <tr>\n",
       "      <th>18049</th>\n",
       "      <td>18049</td>\n",
       "      <td>30</td>\n",
       "      <td>5</td>\n",
       "      <td>1</td>\n",
       "      <td>0</td>\n",
       "      <td>0</td>\n",
       "      <td>6474</td>\n",
       "      <td>0</td>\n",
       "      <td>0</td>\n",
       "      <td>0</td>\n",
       "      <td>13</td>\n",
       "      <td>8</td>\n",
       "      <td>158</td>\n",
       "      <td>1</td>\n",
       "      <td>699</td>\n",
       "      <td>0</td>\n",
       "      <td>3</td>\n",
       "      <td>NaN</td>\n",
       "    </tr>\n",
       "  </tbody>\n",
       "</table>\n",
       "<p>45150 rows × 18 columns</p>\n",
       "</div>"
      ],
      "text/plain": [
       "          id  age  job  marital  education  default  balance  housing  loan  \\\n",
       "0          0   31    7        1          1        0    12294        1     0   \n",
       "1          1   29    2        2          2        0    43027        0     0   \n",
       "2          2   35    4        1          2        0    12252        1     0   \n",
       "3          3   31    9        1          1        0    99121        1     1   \n",
       "4          4   48   10        1          0        0    42005        1     0   \n",
       "...      ...  ...  ...      ...        ...      ...      ...      ...   ...   \n",
       "18045  18045   49    6        1          2        0    98357        1     0   \n",
       "18046  18046   34    1        1          1        0    29621        1     0   \n",
       "18047  18047   34    0        2          1        0    94260        1     0   \n",
       "18048  18048   31    9        2          1        0    65483        1     0   \n",
       "18049  18049   30    5        1          0        0     6474        0     0   \n",
       "\n",
       "       contact  day  month  duration  campaign  pdays  previous  poutcome    y  \n",
       "0            0   21     11       101         3    498         0         1  0.0  \n",
       "1            0   22      8       158         2    702         0         3  1.0  \n",
       "2            0   11     11       351         1    826         0         0  0.0  \n",
       "3            2   16      5       658         2    120         0         0  0.0  \n",
       "4            1    3      4       177         1    273         0         3  0.0  \n",
       "...        ...  ...    ...       ...       ...    ...       ...       ...  ...  \n",
       "18045        0    6      7       101         2    417         0         0  NaN  \n",
       "18046        0   12      5       345         1    815         0         3  NaN  \n",
       "18047        2   16      5       121         2    370         0         3  NaN  \n",
       "18048        2   15      5       345         2     41         0         3  NaN  \n",
       "18049        0   13      8       158         1    699         0         3  NaN  \n",
       "\n",
       "[45150 rows x 18 columns]"
      ]
     },
     "execution_count": 14,
     "metadata": {},
     "output_type": "execute_result"
    }
   ],
   "source": [
    "le = le.fit(data['poutcome'])\n",
    "data['poutcome'] = le.transform(data['poutcome'])\n",
    "data"
   ]
  },
  {
   "cell_type": "code",
   "execution_count": 15,
   "metadata": {},
   "outputs": [],
   "source": [
    "train = data[:len(train)]\n",
    "test = data[len(train):]"
   ]
  },
  {
   "cell_type": "code",
   "execution_count": 16,
   "metadata": {},
   "outputs": [],
   "source": [
    "y_train = train['y']\n",
    "X_train = train.drop(['y','id','pdays'], axis=1)\n",
    "X_test = test.drop(['y','id','pdays'], axis=1)"
   ]
  },
  {
   "cell_type": "code",
   "execution_count": 17,
   "metadata": {},
   "outputs": [
    {
     "name": "stderr",
     "output_type": "stream",
     "text": [
      "/opt/anaconda3/lib/python3.7/site-packages/lightgbm/__init__.py:48: UserWarning: Starting from version 2.2.1, the library file in distribution wheels for macOS is built by the Apple Clang (Xcode_8.3.3) compiler.\n",
      "This means that in case of installing LightGBM from PyPI via the ``pip install lightgbm`` command, you don't need to install the gcc compiler anymore.\n",
      "Instead of that, you need to install the OpenMP library, which is required for running LightGBM on the system with the Apple Clang compiler.\n",
      "You can install the OpenMP library by the following command: ``brew install libomp``.\n",
      "  \"You can install the OpenMP library by the following command: ``brew install libomp``.\", UserWarning)\n"
     ]
    }
   ],
   "source": [
    "# クロスバリデーション\n",
    "\n",
    "from sklearn.model_selection import StratifiedKFold\n",
    "import lightgbm as lgb\n",
    "from sklearn import metrics\n",
    "import optuna"
   ]
  },
  {
   "cell_type": "code",
   "execution_count": 18,
   "metadata": {},
   "outputs": [],
   "source": [
    "def get_evaluate(y_test, predict):\n",
    "    fpr, tpr, thr_arr = metrics.roc_curve(y_test, predict)\n",
    "    accuracy = metrics.auc(fpr, tpr)\n",
    "    roc = metrics.roc_auc_score(y_test, predict)      \n",
    "    return roc"
   ]
  },
  {
   "cell_type": "code",
   "execution_count": 19,
   "metadata": {},
   "outputs": [
    {
     "data": {
      "text/html": [
       "<div>\n",
       "<style scoped>\n",
       "    .dataframe tbody tr th:only-of-type {\n",
       "        vertical-align: middle;\n",
       "    }\n",
       "\n",
       "    .dataframe tbody tr th {\n",
       "        vertical-align: top;\n",
       "    }\n",
       "\n",
       "    .dataframe thead th {\n",
       "        text-align: right;\n",
       "    }\n",
       "</style>\n",
       "<table border=\"1\" class=\"dataframe\">\n",
       "  <thead>\n",
       "    <tr style=\"text-align: right;\">\n",
       "      <th></th>\n",
       "      <th>age</th>\n",
       "      <th>job</th>\n",
       "      <th>marital</th>\n",
       "      <th>education</th>\n",
       "      <th>default</th>\n",
       "      <th>balance</th>\n",
       "      <th>housing</th>\n",
       "      <th>loan</th>\n",
       "      <th>contact</th>\n",
       "      <th>day</th>\n",
       "      <th>month</th>\n",
       "      <th>duration</th>\n",
       "      <th>campaign</th>\n",
       "      <th>previous</th>\n",
       "      <th>poutcome</th>\n",
       "    </tr>\n",
       "  </thead>\n",
       "  <tbody>\n",
       "    <tr>\n",
       "      <th>0</th>\n",
       "      <td>31</td>\n",
       "      <td>7</td>\n",
       "      <td>1</td>\n",
       "      <td>1</td>\n",
       "      <td>0</td>\n",
       "      <td>12294</td>\n",
       "      <td>1</td>\n",
       "      <td>0</td>\n",
       "      <td>0</td>\n",
       "      <td>21</td>\n",
       "      <td>11</td>\n",
       "      <td>101</td>\n",
       "      <td>3</td>\n",
       "      <td>0</td>\n",
       "      <td>1</td>\n",
       "    </tr>\n",
       "    <tr>\n",
       "      <th>1</th>\n",
       "      <td>29</td>\n",
       "      <td>2</td>\n",
       "      <td>2</td>\n",
       "      <td>2</td>\n",
       "      <td>0</td>\n",
       "      <td>43027</td>\n",
       "      <td>0</td>\n",
       "      <td>0</td>\n",
       "      <td>0</td>\n",
       "      <td>22</td>\n",
       "      <td>8</td>\n",
       "      <td>158</td>\n",
       "      <td>2</td>\n",
       "      <td>0</td>\n",
       "      <td>3</td>\n",
       "    </tr>\n",
       "    <tr>\n",
       "      <th>2</th>\n",
       "      <td>35</td>\n",
       "      <td>4</td>\n",
       "      <td>1</td>\n",
       "      <td>2</td>\n",
       "      <td>0</td>\n",
       "      <td>12252</td>\n",
       "      <td>1</td>\n",
       "      <td>0</td>\n",
       "      <td>0</td>\n",
       "      <td>11</td>\n",
       "      <td>11</td>\n",
       "      <td>351</td>\n",
       "      <td>1</td>\n",
       "      <td>0</td>\n",
       "      <td>0</td>\n",
       "    </tr>\n",
       "    <tr>\n",
       "      <th>3</th>\n",
       "      <td>31</td>\n",
       "      <td>9</td>\n",
       "      <td>1</td>\n",
       "      <td>1</td>\n",
       "      <td>0</td>\n",
       "      <td>99121</td>\n",
       "      <td>1</td>\n",
       "      <td>1</td>\n",
       "      <td>2</td>\n",
       "      <td>16</td>\n",
       "      <td>5</td>\n",
       "      <td>658</td>\n",
       "      <td>2</td>\n",
       "      <td>0</td>\n",
       "      <td>0</td>\n",
       "    </tr>\n",
       "    <tr>\n",
       "      <th>4</th>\n",
       "      <td>48</td>\n",
       "      <td>10</td>\n",
       "      <td>1</td>\n",
       "      <td>0</td>\n",
       "      <td>0</td>\n",
       "      <td>42005</td>\n",
       "      <td>1</td>\n",
       "      <td>0</td>\n",
       "      <td>1</td>\n",
       "      <td>3</td>\n",
       "      <td>4</td>\n",
       "      <td>177</td>\n",
       "      <td>1</td>\n",
       "      <td>0</td>\n",
       "      <td>3</td>\n",
       "    </tr>\n",
       "    <tr>\n",
       "      <th>...</th>\n",
       "      <td>...</td>\n",
       "      <td>...</td>\n",
       "      <td>...</td>\n",
       "      <td>...</td>\n",
       "      <td>...</td>\n",
       "      <td>...</td>\n",
       "      <td>...</td>\n",
       "      <td>...</td>\n",
       "      <td>...</td>\n",
       "      <td>...</td>\n",
       "      <td>...</td>\n",
       "      <td>...</td>\n",
       "      <td>...</td>\n",
       "      <td>...</td>\n",
       "      <td>...</td>\n",
       "    </tr>\n",
       "    <tr>\n",
       "      <th>27095</th>\n",
       "      <td>37</td>\n",
       "      <td>1</td>\n",
       "      <td>1</td>\n",
       "      <td>1</td>\n",
       "      <td>0</td>\n",
       "      <td>26661</td>\n",
       "      <td>1</td>\n",
       "      <td>0</td>\n",
       "      <td>0</td>\n",
       "      <td>27</td>\n",
       "      <td>5</td>\n",
       "      <td>345</td>\n",
       "      <td>4</td>\n",
       "      <td>0</td>\n",
       "      <td>3</td>\n",
       "    </tr>\n",
       "    <tr>\n",
       "      <th>27096</th>\n",
       "      <td>35</td>\n",
       "      <td>7</td>\n",
       "      <td>1</td>\n",
       "      <td>1</td>\n",
       "      <td>0</td>\n",
       "      <td>42150</td>\n",
       "      <td>1</td>\n",
       "      <td>0</td>\n",
       "      <td>0</td>\n",
       "      <td>27</td>\n",
       "      <td>5</td>\n",
       "      <td>121</td>\n",
       "      <td>1</td>\n",
       "      <td>0</td>\n",
       "      <td>3</td>\n",
       "    </tr>\n",
       "    <tr>\n",
       "      <th>27097</th>\n",
       "      <td>35</td>\n",
       "      <td>7</td>\n",
       "      <td>1</td>\n",
       "      <td>3</td>\n",
       "      <td>0</td>\n",
       "      <td>34531</td>\n",
       "      <td>0</td>\n",
       "      <td>0</td>\n",
       "      <td>0</td>\n",
       "      <td>28</td>\n",
       "      <td>6</td>\n",
       "      <td>177</td>\n",
       "      <td>2</td>\n",
       "      <td>0</td>\n",
       "      <td>3</td>\n",
       "    </tr>\n",
       "    <tr>\n",
       "      <th>27098</th>\n",
       "      <td>30</td>\n",
       "      <td>0</td>\n",
       "      <td>2</td>\n",
       "      <td>1</td>\n",
       "      <td>0</td>\n",
       "      <td>99621</td>\n",
       "      <td>1</td>\n",
       "      <td>0</td>\n",
       "      <td>0</td>\n",
       "      <td>27</td>\n",
       "      <td>5</td>\n",
       "      <td>121</td>\n",
       "      <td>1</td>\n",
       "      <td>0</td>\n",
       "      <td>3</td>\n",
       "    </tr>\n",
       "    <tr>\n",
       "      <th>27099</th>\n",
       "      <td>34</td>\n",
       "      <td>4</td>\n",
       "      <td>1</td>\n",
       "      <td>2</td>\n",
       "      <td>0</td>\n",
       "      <td>8657</td>\n",
       "      <td>1</td>\n",
       "      <td>0</td>\n",
       "      <td>0</td>\n",
       "      <td>27</td>\n",
       "      <td>5</td>\n",
       "      <td>345</td>\n",
       "      <td>2</td>\n",
       "      <td>0</td>\n",
       "      <td>3</td>\n",
       "    </tr>\n",
       "  </tbody>\n",
       "</table>\n",
       "<p>27100 rows × 15 columns</p>\n",
       "</div>"
      ],
      "text/plain": [
       "       age  job  marital  education  default  balance  housing  loan  contact  \\\n",
       "0       31    7        1          1        0    12294        1     0        0   \n",
       "1       29    2        2          2        0    43027        0     0        0   \n",
       "2       35    4        1          2        0    12252        1     0        0   \n",
       "3       31    9        1          1        0    99121        1     1        2   \n",
       "4       48   10        1          0        0    42005        1     0        1   \n",
       "...    ...  ...      ...        ...      ...      ...      ...   ...      ...   \n",
       "27095   37    1        1          1        0    26661        1     0        0   \n",
       "27096   35    7        1          1        0    42150        1     0        0   \n",
       "27097   35    7        1          3        0    34531        0     0        0   \n",
       "27098   30    0        2          1        0    99621        1     0        0   \n",
       "27099   34    4        1          2        0     8657        1     0        0   \n",
       "\n",
       "       day  month  duration  campaign  previous  poutcome  \n",
       "0       21     11       101         3         0         1  \n",
       "1       22      8       158         2         0         3  \n",
       "2       11     11       351         1         0         0  \n",
       "3       16      5       658         2         0         0  \n",
       "4        3      4       177         1         0         3  \n",
       "...    ...    ...       ...       ...       ...       ...  \n",
       "27095   27      5       345         4         0         3  \n",
       "27096   27      5       121         1         0         3  \n",
       "27097   28      6       177         2         0         3  \n",
       "27098   27      5       121         1         0         3  \n",
       "27099   27      5       345         2         0         3  \n",
       "\n",
       "[27100 rows x 15 columns]"
      ]
     },
     "execution_count": 19,
     "metadata": {},
     "output_type": "execute_result"
    }
   ],
   "source": [
    "X_train"
   ]
  },
  {
   "cell_type": "code",
   "execution_count": 20,
   "metadata": {},
   "outputs": [],
   "source": [
    "from sklearn.model_selection import train_test_split\n",
    "X_train, X_valid, y_train, y_valid = train_test_split(X_train, y_train, test_size=0.3, random_state=0, stratify=y_train)"
   ]
  },
  {
   "cell_type": "code",
   "execution_count": 21,
   "metadata": {},
   "outputs": [],
   "source": [
    "categorical_features = ['job', 'marital', 'education','housing','loan','contact','month','poutcome']"
   ]
  },
  {
   "cell_type": "code",
   "execution_count": 22,
   "metadata": {},
   "outputs": [
    {
     "name": "stderr",
     "output_type": "stream",
     "text": [
      "feature_fraction, val_score: -inf:   0%|          | 0/7 [00:00<?, ?it/s]/opt/anaconda3/lib/python3.7/site-packages/lightgbm/basic.py:1243: UserWarning: Using categorical_feature in Dataset.\n",
      "  warnings.warn('Using categorical_feature in Dataset.')\n",
      "/opt/anaconda3/lib/python3.7/site-packages/lightgbm/basic.py:1247: UserWarning: categorical_feature in Dataset is overridden.\n",
      "New categorical_feature is ['contact', 'education', 'housing', 'job', 'loan', 'marital', 'month', 'poutcome']\n",
      "  'New categorical_feature is {}'.format(sorted(list(categorical_feature))))\n"
     ]
    },
    {
     "name": "stdout",
     "output_type": "stream",
     "text": [
      "Training until validation scores don't improve for 5 rounds\n",
      "Early stopping, best iteration is:\n",
      "[1]\tvalid_0's auc: 1\n"
     ]
    },
    {
     "name": "stderr",
     "output_type": "stream",
     "text": [
      "feature_fraction, val_score: 1.000000:  14%|#4        | 1/7 [00:00<00:01,  5.38it/s][I 2020-08-14 20:04:13,630] Trial 0 finished with value: 1.0 and parameters: {'feature_fraction': 0.4}. Best is trial 0 with value: 1.0.\n",
      "feature_fraction, val_score: 1.000000:  14%|#4        | 1/7 [00:00<00:01,  5.38it/s]"
     ]
    },
    {
     "name": "stdout",
     "output_type": "stream",
     "text": [
      "Training until validation scores don't improve for 5 rounds\n",
      "Early stopping, best iteration is:\n",
      "[1]\tvalid_0's auc: 1\n"
     ]
    },
    {
     "name": "stderr",
     "output_type": "stream",
     "text": [
      "feature_fraction, val_score: 1.000000:  29%|##8       | 2/7 [00:00<00:00,  5.91it/s][I 2020-08-14 20:04:13,761] Trial 1 finished with value: 1.0 and parameters: {'feature_fraction': 0.6}. Best is trial 0 with value: 1.0.\n",
      "feature_fraction, val_score: 1.000000:  29%|##8       | 2/7 [00:00<00:00,  5.91it/s]"
     ]
    },
    {
     "name": "stdout",
     "output_type": "stream",
     "text": [
      "Training until validation scores don't improve for 5 rounds\n",
      "Early stopping, best iteration is:\n",
      "[1]\tvalid_0's auc: 1\n"
     ]
    },
    {
     "name": "stderr",
     "output_type": "stream",
     "text": [
      "feature_fraction, val_score: 1.000000:  43%|####2     | 3/7 [00:00<00:00,  6.61it/s][I 2020-08-14 20:04:13,866] Trial 2 finished with value: 1.0 and parameters: {'feature_fraction': 0.8}. Best is trial 0 with value: 1.0.\n",
      "feature_fraction, val_score: 1.000000:  43%|####2     | 3/7 [00:00<00:00,  6.61it/s]"
     ]
    },
    {
     "name": "stdout",
     "output_type": "stream",
     "text": [
      "Training until validation scores don't improve for 5 rounds\n",
      "Early stopping, best iteration is:\n",
      "[1]\tvalid_0's auc: 1\n"
     ]
    },
    {
     "name": "stderr",
     "output_type": "stream",
     "text": [
      "feature_fraction, val_score: 1.000000:  57%|#####7    | 4/7 [00:00<00:00,  7.06it/s][I 2020-08-14 20:04:13,987] Trial 3 finished with value: 1.0 and parameters: {'feature_fraction': 0.5}. Best is trial 0 with value: 1.0.\n",
      "feature_fraction, val_score: 1.000000:  57%|#####7    | 4/7 [00:00<00:00,  7.06it/s]"
     ]
    },
    {
     "name": "stdout",
     "output_type": "stream",
     "text": [
      "Training until validation scores don't improve for 5 rounds\n",
      "Early stopping, best iteration is:\n",
      "[1]\tvalid_0's auc: 1\n"
     ]
    },
    {
     "name": "stderr",
     "output_type": "stream",
     "text": [
      "feature_fraction, val_score: 1.000000:  71%|#######1  | 5/7 [00:00<00:00,  7.55it/s][I 2020-08-14 20:04:14,096] Trial 4 finished with value: 1.0 and parameters: {'feature_fraction': 0.8999999999999999}. Best is trial 0 with value: 1.0.\n",
      "feature_fraction, val_score: 1.000000:  71%|#######1  | 5/7 [00:00<00:00,  7.55it/s]"
     ]
    },
    {
     "name": "stdout",
     "output_type": "stream",
     "text": [
      "Training until validation scores don't improve for 5 rounds\n",
      "Early stopping, best iteration is:\n",
      "[1]\tvalid_0's auc: 1\n"
     ]
    },
    {
     "name": "stderr",
     "output_type": "stream",
     "text": [
      "feature_fraction, val_score: 1.000000:  86%|########5 | 6/7 [00:00<00:00,  7.53it/s][I 2020-08-14 20:04:14,229] Trial 5 finished with value: 1.0 and parameters: {'feature_fraction': 0.7}. Best is trial 0 with value: 1.0.\n",
      "feature_fraction, val_score: 1.000000:  86%|########5 | 6/7 [00:00<00:00,  7.53it/s]"
     ]
    },
    {
     "name": "stdout",
     "output_type": "stream",
     "text": [
      "Training until validation scores don't improve for 5 rounds\n",
      "Early stopping, best iteration is:\n",
      "[1]\tvalid_0's auc: 1\n"
     ]
    },
    {
     "name": "stderr",
     "output_type": "stream",
     "text": [
      "feature_fraction, val_score: 1.000000: 100%|##########| 7/7 [00:00<00:00,  7.57it/s][I 2020-08-14 20:04:14,362] Trial 6 finished with value: 1.0 and parameters: {'feature_fraction': 1.0}. Best is trial 0 with value: 1.0.\n",
      "feature_fraction, val_score: 1.000000: 100%|##########| 7/7 [00:00<00:00,  7.54it/s]\n",
      "num_leaves, val_score: 1.000000:   0%|          | 0/20 [00:00<?, ?it/s]"
     ]
    },
    {
     "name": "stdout",
     "output_type": "stream",
     "text": [
      "Training until validation scores don't improve for 5 rounds\n",
      "Early stopping, best iteration is:\n",
      "[1]\tvalid_0's auc: 1\n"
     ]
    },
    {
     "name": "stderr",
     "output_type": "stream",
     "text": [
      "num_leaves, val_score: 1.000000:   5%|5         | 1/20 [00:00<00:03,  5.21it/s][I 2020-08-14 20:04:14,570] Trial 7 finished with value: 1.0 and parameters: {'num_leaves': 94}. Best is trial 7 with value: 1.0.\n",
      "num_leaves, val_score: 1.000000:   5%|5         | 1/20 [00:00<00:03,  5.21it/s]"
     ]
    },
    {
     "name": "stdout",
     "output_type": "stream",
     "text": [
      "Training until validation scores don't improve for 5 rounds\n",
      "Early stopping, best iteration is:\n",
      "[1]\tvalid_0's auc: 1\n"
     ]
    },
    {
     "name": "stderr",
     "output_type": "stream",
     "text": [
      "num_leaves, val_score: 1.000000:  10%|#         | 2/20 [00:00<00:03,  4.72it/s][I 2020-08-14 20:04:14,828] Trial 8 finished with value: 1.0 and parameters: {'num_leaves': 144}. Best is trial 7 with value: 1.0.\n",
      "num_leaves, val_score: 1.000000:  10%|#         | 2/20 [00:00<00:03,  4.72it/s]"
     ]
    },
    {
     "name": "stdout",
     "output_type": "stream",
     "text": [
      "Training until validation scores don't improve for 5 rounds\n",
      "Early stopping, best iteration is:\n",
      "[1]\tvalid_0's auc: 1\n"
     ]
    },
    {
     "name": "stderr",
     "output_type": "stream",
     "text": [
      "num_leaves, val_score: 1.000000:  15%|#5        | 3/20 [00:00<00:03,  5.32it/s][I 2020-08-14 20:04:14,963] Trial 9 finished with value: 1.0 and parameters: {'num_leaves': 106}. Best is trial 7 with value: 1.0.\n",
      "num_leaves, val_score: 1.000000:  15%|#5        | 3/20 [00:00<00:03,  5.32it/s]"
     ]
    },
    {
     "name": "stdout",
     "output_type": "stream",
     "text": [
      "Training until validation scores don't improve for 5 rounds\n",
      "Early stopping, best iteration is:\n",
      "[1]\tvalid_0's auc: 1\n"
     ]
    },
    {
     "name": "stderr",
     "output_type": "stream",
     "text": [
      "num_leaves, val_score: 1.000000:  20%|##        | 4/20 [00:00<00:03,  4.74it/s][I 2020-08-14 20:04:15,224] Trial 10 finished with value: 1.0 and parameters: {'num_leaves': 249}. Best is trial 7 with value: 1.0.\n",
      "num_leaves, val_score: 1.000000:  20%|##        | 4/20 [00:00<00:03,  4.74it/s]"
     ]
    },
    {
     "name": "stdout",
     "output_type": "stream",
     "text": [
      "Training until validation scores don't improve for 5 rounds\n",
      "Early stopping, best iteration is:\n",
      "[1]\tvalid_0's auc: 1\n"
     ]
    },
    {
     "name": "stderr",
     "output_type": "stream",
     "text": [
      "num_leaves, val_score: 1.000000:  20%|##        | 4/20 [00:00<00:03,  4.74it/s][I 2020-08-14 20:04:15,300] Trial 11 finished with value: 1.0 and parameters: {'num_leaves': 6}. Best is trial 7 with value: 1.0.\n",
      "num_leaves, val_score: 1.000000:  25%|##5       | 5/20 [00:00<00:03,  4.74it/s]"
     ]
    },
    {
     "name": "stdout",
     "output_type": "stream",
     "text": [
      "Training until validation scores don't improve for 5 rounds\n",
      "Early stopping, best iteration is:\n",
      "[1]\tvalid_0's auc: 1\n"
     ]
    },
    {
     "name": "stderr",
     "output_type": "stream",
     "text": [
      "num_leaves, val_score: 1.000000:  30%|###       | 6/20 [00:01<00:02,  5.31it/s][I 2020-08-14 20:04:15,497] Trial 12 finished with value: 1.0 and parameters: {'num_leaves': 245}. Best is trial 7 with value: 1.0.\n",
      "num_leaves, val_score: 1.000000:  30%|###       | 6/20 [00:01<00:02,  5.31it/s]"
     ]
    },
    {
     "name": "stdout",
     "output_type": "stream",
     "text": [
      "Training until validation scores don't improve for 5 rounds\n",
      "Early stopping, best iteration is:\n",
      "[1]\tvalid_0's auc: 1\n"
     ]
    },
    {
     "name": "stderr",
     "output_type": "stream",
     "text": [
      "num_leaves, val_score: 1.000000:  35%|###5      | 7/20 [00:01<00:02,  5.75it/s][I 2020-08-14 20:04:15,636] Trial 13 finished with value: 1.0 and parameters: {'num_leaves': 23}. Best is trial 7 with value: 1.0.\n",
      "num_leaves, val_score: 1.000000:  35%|###5      | 7/20 [00:01<00:02,  5.75it/s]"
     ]
    },
    {
     "name": "stdout",
     "output_type": "stream",
     "text": [
      "Training until validation scores don't improve for 5 rounds\n",
      "Early stopping, best iteration is:\n",
      "[1]\tvalid_0's auc: 1\n"
     ]
    },
    {
     "name": "stderr",
     "output_type": "stream",
     "text": [
      "num_leaves, val_score: 1.000000:  35%|###5      | 7/20 [00:01<00:02,  5.75it/s][I 2020-08-14 20:04:15,725] Trial 14 finished with value: 1.0 and parameters: {'num_leaves': 179}. Best is trial 7 with value: 1.0.\n",
      "num_leaves, val_score: 1.000000:  40%|####      | 8/20 [00:01<00:02,  5.75it/s]"
     ]
    },
    {
     "name": "stdout",
     "output_type": "stream",
     "text": [
      "Training until validation scores don't improve for 5 rounds\n",
      "Early stopping, best iteration is:\n",
      "[1]\tvalid_0's auc: 1\n"
     ]
    },
    {
     "name": "stderr",
     "output_type": "stream",
     "text": [
      "num_leaves, val_score: 1.000000:  45%|####5     | 9/20 [00:01<00:01,  6.86it/s][I 2020-08-14 20:04:15,795] Trial 15 finished with value: 1.0 and parameters: {'num_leaves': 54}. Best is trial 7 with value: 1.0.\n",
      "num_leaves, val_score: 1.000000:  45%|####5     | 9/20 [00:01<00:01,  6.86it/s]"
     ]
    },
    {
     "name": "stdout",
     "output_type": "stream",
     "text": [
      "Training until validation scores don't improve for 5 rounds\n",
      "Early stopping, best iteration is:\n",
      "[1]\tvalid_0's auc: 1\n"
     ]
    },
    {
     "name": "stderr",
     "output_type": "stream",
     "text": [
      "num_leaves, val_score: 1.000000:  50%|#####     | 10/20 [00:01<00:01,  7.17it/s][I 2020-08-14 20:04:15,921] Trial 16 finished with value: 1.0 and parameters: {'num_leaves': 207}. Best is trial 7 with value: 1.0.\n",
      "num_leaves, val_score: 1.000000:  50%|#####     | 10/20 [00:01<00:01,  7.17it/s]"
     ]
    },
    {
     "name": "stdout",
     "output_type": "stream",
     "text": [
      "Training until validation scores don't improve for 5 rounds\n",
      "Early stopping, best iteration is:\n",
      "[1]\tvalid_0's auc: 1\n"
     ]
    },
    {
     "name": "stderr",
     "output_type": "stream",
     "text": [
      "num_leaves, val_score: 1.000000:  55%|#####5    | 11/20 [00:01<00:01,  6.66it/s][I 2020-08-14 20:04:16,095] Trial 17 finished with value: 1.0 and parameters: {'num_leaves': 177}. Best is trial 7 with value: 1.0.\n",
      "num_leaves, val_score: 1.000000:  55%|#####5    | 11/20 [00:01<00:01,  6.66it/s]"
     ]
    },
    {
     "name": "stdout",
     "output_type": "stream",
     "text": [
      "Training until validation scores don't improve for 5 rounds\n",
      "Early stopping, best iteration is:\n",
      "[1]\tvalid_0's auc: 1\n"
     ]
    },
    {
     "name": "stderr",
     "output_type": "stream",
     "text": [
      "num_leaves, val_score: 1.000000:  55%|#####5    | 11/20 [00:01<00:01,  6.66it/s][I 2020-08-14 20:04:16,191] Trial 18 finished with value: 1.0 and parameters: {'num_leaves': 64}. Best is trial 7 with value: 1.0.\n",
      "num_leaves, val_score: 1.000000:  60%|######    | 12/20 [00:01<00:01,  6.66it/s]"
     ]
    },
    {
     "name": "stdout",
     "output_type": "stream",
     "text": [
      "Training until validation scores don't improve for 5 rounds\n",
      "Early stopping, best iteration is:\n",
      "[1]\tvalid_0's auc: 1\n"
     ]
    },
    {
     "name": "stderr",
     "output_type": "stream",
     "text": [
      "num_leaves, val_score: 1.000000:  65%|######5   | 13/20 [00:01<00:00,  7.44it/s][I 2020-08-14 20:04:16,291] Trial 19 finished with value: 1.0 and parameters: {'num_leaves': 210}. Best is trial 7 with value: 1.0.\n",
      "num_leaves, val_score: 1.000000:  65%|######5   | 13/20 [00:01<00:00,  7.44it/s]"
     ]
    },
    {
     "name": "stdout",
     "output_type": "stream",
     "text": [
      "Training until validation scores don't improve for 5 rounds\n",
      "Early stopping, best iteration is:\n",
      "[1]\tvalid_0's auc: 1\n"
     ]
    },
    {
     "name": "stderr",
     "output_type": "stream",
     "text": [
      "num_leaves, val_score: 1.000000:  65%|######5   | 13/20 [00:01<00:00,  7.44it/s][I 2020-08-14 20:04:16,371] Trial 20 finished with value: 1.0 and parameters: {'num_leaves': 151}. Best is trial 7 with value: 1.0.\n",
      "num_leaves, val_score: 1.000000:  70%|#######   | 14/20 [00:02<00:00,  7.44it/s]"
     ]
    },
    {
     "name": "stdout",
     "output_type": "stream",
     "text": [
      "Training until validation scores don't improve for 5 rounds\n",
      "Early stopping, best iteration is:\n",
      "[1]\tvalid_0's auc: 1\n"
     ]
    },
    {
     "name": "stderr",
     "output_type": "stream",
     "text": [
      "num_leaves, val_score: 1.000000:  75%|#######5  | 15/20 [00:02<00:00,  8.29it/s][I 2020-08-14 20:04:16,477] Trial 21 finished with value: 1.0 and parameters: {'num_leaves': 51}. Best is trial 7 with value: 1.0.\n",
      "num_leaves, val_score: 1.000000:  75%|#######5  | 15/20 [00:02<00:00,  8.29it/s]"
     ]
    },
    {
     "name": "stdout",
     "output_type": "stream",
     "text": [
      "Training until validation scores don't improve for 5 rounds\n",
      "Early stopping, best iteration is:\n",
      "[1]\tvalid_0's auc: 1\n"
     ]
    },
    {
     "name": "stderr",
     "output_type": "stream",
     "text": [
      "num_leaves, val_score: 1.000000:  80%|########  | 16/20 [00:02<00:00,  5.39it/s][I 2020-08-14 20:04:16,805] Trial 22 finished with value: 1.0 and parameters: {'num_leaves': 83}. Best is trial 7 with value: 1.0.\n",
      "num_leaves, val_score: 1.000000:  80%|########  | 16/20 [00:02<00:00,  5.39it/s]"
     ]
    },
    {
     "name": "stdout",
     "output_type": "stream",
     "text": [
      "Training until validation scores don't improve for 5 rounds\n",
      "Early stopping, best iteration is:\n",
      "[1]\tvalid_0's auc: 1\n"
     ]
    },
    {
     "name": "stderr",
     "output_type": "stream",
     "text": [
      "num_leaves, val_score: 1.000000:  85%|########5 | 17/20 [00:02<00:00,  4.13it/s][I 2020-08-14 20:04:17,178] Trial 23 finished with value: 1.0 and parameters: {'num_leaves': 212}. Best is trial 7 with value: 1.0.\n",
      "num_leaves, val_score: 1.000000:  85%|########5 | 17/20 [00:02<00:00,  4.13it/s]"
     ]
    },
    {
     "name": "stdout",
     "output_type": "stream",
     "text": [
      "Training until validation scores don't improve for 5 rounds\n",
      "Early stopping, best iteration is:\n",
      "[1]\tvalid_0's auc: 1\n"
     ]
    },
    {
     "name": "stderr",
     "output_type": "stream",
     "text": [
      "num_leaves, val_score: 1.000000:  90%|######### | 18/20 [00:02<00:00,  4.95it/s][I 2020-08-14 20:04:17,287] Trial 24 finished with value: 1.0 and parameters: {'num_leaves': 135}. Best is trial 7 with value: 1.0.\n",
      "num_leaves, val_score: 1.000000:  90%|######### | 18/20 [00:02<00:00,  4.95it/s]"
     ]
    },
    {
     "name": "stdout",
     "output_type": "stream",
     "text": [
      "Training until validation scores don't improve for 5 rounds\n",
      "Early stopping, best iteration is:\n",
      "[1]\tvalid_0's auc: 1\n"
     ]
    },
    {
     "name": "stderr",
     "output_type": "stream",
     "text": [
      "num_leaves, val_score: 1.000000:  90%|######### | 18/20 [00:02<00:00,  4.95it/s][I 2020-08-14 20:04:17,363] Trial 25 finished with value: 1.0 and parameters: {'num_leaves': 49}. Best is trial 7 with value: 1.0.\n",
      "num_leaves, val_score: 1.000000:  95%|#########5| 19/20 [00:02<00:00,  4.95it/s]"
     ]
    },
    {
     "name": "stdout",
     "output_type": "stream",
     "text": [
      "Training until validation scores don't improve for 5 rounds\n",
      "Early stopping, best iteration is:\n",
      "[1]\tvalid_0's auc: 1\n"
     ]
    },
    {
     "name": "stderr",
     "output_type": "stream",
     "text": [
      "num_leaves, val_score: 1.000000: 100%|##########| 20/20 [00:03<00:00,  5.76it/s][I 2020-08-14 20:04:17,505] Trial 26 finished with value: 1.0 and parameters: {'num_leaves': 91}. Best is trial 7 with value: 1.0.\n",
      "num_leaves, val_score: 1.000000: 100%|##########| 20/20 [00:03<00:00,  6.38it/s]\n",
      "bagging, val_score: 1.000000:   0%|          | 0/10 [00:00<?, ?it/s]"
     ]
    },
    {
     "name": "stdout",
     "output_type": "stream",
     "text": [
      "Training until validation scores don't improve for 5 rounds\n",
      "Early stopping, best iteration is:\n",
      "[1]\tvalid_0's auc: 1\n"
     ]
    },
    {
     "name": "stderr",
     "output_type": "stream",
     "text": [
      "bagging, val_score: 1.000000:   0%|          | 0/10 [00:00<?, ?it/s][I 2020-08-14 20:04:17,609] Trial 27 finished with value: 1.0 and parameters: {'bagging_fraction': 0.8945459593551719, 'bagging_freq': 4}. Best is trial 27 with value: 1.0.\n",
      "bagging, val_score: 1.000000:  10%|#         | 1/10 [00:00<00:01,  6.98it/s]"
     ]
    },
    {
     "name": "stdout",
     "output_type": "stream",
     "text": [
      "Training until validation scores don't improve for 5 rounds\n",
      "Early stopping, best iteration is:\n",
      "[1]\tvalid_0's auc: 1\n"
     ]
    },
    {
     "name": "stderr",
     "output_type": "stream",
     "text": [
      "bagging, val_score: 1.000000:  20%|##        | 2/10 [00:00<00:01,  5.96it/s][I 2020-08-14 20:04:17,859] Trial 28 finished with value: 1.0 and parameters: {'bagging_fraction': 0.42335401764659847, 'bagging_freq': 7}. Best is trial 27 with value: 1.0.\n",
      "bagging, val_score: 1.000000:  20%|##        | 2/10 [00:00<00:01,  5.96it/s]"
     ]
    },
    {
     "name": "stdout",
     "output_type": "stream",
     "text": [
      "Training until validation scores don't improve for 5 rounds\n",
      "Early stopping, best iteration is:\n",
      "[1]\tvalid_0's auc: 1\n"
     ]
    },
    {
     "name": "stderr",
     "output_type": "stream",
     "text": [
      "bagging, val_score: 1.000000:  20%|##        | 2/10 [00:00<00:01,  5.96it/s][I 2020-08-14 20:04:17,911] Trial 29 finished with value: 1.0 and parameters: {'bagging_fraction': 0.4190691169771623, 'bagging_freq': 1}. Best is trial 27 with value: 1.0.\n",
      "bagging, val_score: 1.000000:  30%|###       | 3/10 [00:00<00:01,  5.96it/s]"
     ]
    },
    {
     "name": "stdout",
     "output_type": "stream",
     "text": [
      "Training until validation scores don't improve for 5 rounds\n",
      "Early stopping, best iteration is:\n",
      "[1]\tvalid_0's auc: 1\n"
     ]
    },
    {
     "name": "stderr",
     "output_type": "stream",
     "text": [
      "bagging, val_score: 1.000000:  40%|####      | 4/10 [00:00<00:00,  7.43it/s][I 2020-08-14 20:04:17,971] Trial 30 finished with value: 1.0 and parameters: {'bagging_fraction': 0.9981208659352746, 'bagging_freq': 4}. Best is trial 27 with value: 1.0.\n",
      "bagging, val_score: 1.000000:  40%|####      | 4/10 [00:00<00:00,  7.43it/s]"
     ]
    },
    {
     "name": "stdout",
     "output_type": "stream",
     "text": [
      "Training until validation scores don't improve for 5 rounds\n",
      "Early stopping, best iteration is:\n",
      "[1]\tvalid_0's auc: 1\n"
     ]
    },
    {
     "name": "stderr",
     "output_type": "stream",
     "text": [
      "bagging, val_score: 1.000000:  40%|####      | 4/10 [00:00<00:00,  7.43it/s][I 2020-08-14 20:04:18,041] Trial 31 finished with value: 1.0 and parameters: {'bagging_fraction': 0.8738693275880954, 'bagging_freq': 7}. Best is trial 27 with value: 1.0.\n",
      "bagging, val_score: 1.000000:  50%|#####     | 5/10 [00:00<00:00,  7.43it/s]"
     ]
    },
    {
     "name": "stdout",
     "output_type": "stream",
     "text": [
      "Training until validation scores don't improve for 5 rounds\n",
      "Early stopping, best iteration is:\n",
      "[1]\tvalid_0's auc: 1\n"
     ]
    },
    {
     "name": "stderr",
     "output_type": "stream",
     "text": [
      "bagging, val_score: 1.000000:  60%|######    | 6/10 [00:00<00:00,  8.61it/s][I 2020-08-14 20:04:18,119] Trial 32 finished with value: 1.0 and parameters: {'bagging_fraction': 0.4082983124582961, 'bagging_freq': 1}. Best is trial 27 with value: 1.0.\n",
      "bagging, val_score: 1.000000:  60%|######    | 6/10 [00:00<00:00,  8.61it/s]"
     ]
    },
    {
     "name": "stdout",
     "output_type": "stream",
     "text": [
      "Training until validation scores don't improve for 5 rounds\n",
      "Early stopping, best iteration is:\n",
      "[1]\tvalid_0's auc: 1\n"
     ]
    },
    {
     "name": "stderr",
     "output_type": "stream",
     "text": [
      "bagging, val_score: 1.000000:  70%|#######   | 7/10 [00:00<00:00,  8.70it/s][I 2020-08-14 20:04:18,231] Trial 33 finished with value: 1.0 and parameters: {'bagging_fraction': 0.41589949822211514, 'bagging_freq': 6}. Best is trial 27 with value: 1.0.\n",
      "bagging, val_score: 1.000000:  70%|#######   | 7/10 [00:00<00:00,  8.70it/s]"
     ]
    },
    {
     "name": "stdout",
     "output_type": "stream",
     "text": [
      "Training until validation scores don't improve for 5 rounds\n",
      "Early stopping, best iteration is:\n",
      "[1]\tvalid_0's auc: 1\n"
     ]
    },
    {
     "name": "stderr",
     "output_type": "stream",
     "text": [
      "bagging, val_score: 1.000000:  70%|#######   | 7/10 [00:00<00:00,  8.70it/s][I 2020-08-14 20:04:18,316] Trial 34 finished with value: 1.0 and parameters: {'bagging_fraction': 0.9794991867023456, 'bagging_freq': 1}. Best is trial 27 with value: 1.0.\n",
      "bagging, val_score: 1.000000:  80%|########  | 8/10 [00:00<00:00,  8.70it/s]"
     ]
    },
    {
     "name": "stdout",
     "output_type": "stream",
     "text": [
      "Training until validation scores don't improve for 5 rounds\n",
      "Early stopping, best iteration is:\n",
      "[1]\tvalid_0's auc: 1\n"
     ]
    },
    {
     "name": "stderr",
     "output_type": "stream",
     "text": [
      "bagging, val_score: 1.000000:  90%|######### | 9/10 [00:00<00:00,  9.37it/s][I 2020-08-14 20:04:18,409] Trial 35 finished with value: 1.0 and parameters: {'bagging_fraction': 0.6476241718539681, 'bagging_freq': 3}. Best is trial 27 with value: 1.0.\n",
      "bagging, val_score: 1.000000:  90%|######### | 9/10 [00:00<00:00,  9.37it/s]"
     ]
    },
    {
     "name": "stdout",
     "output_type": "stream",
     "text": [
      "Training until validation scores don't improve for 5 rounds\n",
      "Early stopping, best iteration is:\n",
      "[1]\tvalid_0's auc: 1\n"
     ]
    },
    {
     "name": "stderr",
     "output_type": "stream",
     "text": [
      "bagging, val_score: 1.000000:  90%|######### | 9/10 [00:00<00:00,  9.37it/s][I 2020-08-14 20:04:18,496] Trial 36 finished with value: 1.0 and parameters: {'bagging_fraction': 0.605150204118374, 'bagging_freq': 5}. Best is trial 27 with value: 1.0.\n",
      "bagging, val_score: 1.000000: 100%|##########| 10/10 [00:00<00:00, 10.21it/s]\n",
      "feature_fraction_stage2, val_score: 1.000000:   0%|          | 0/3 [00:00<?, ?it/s]"
     ]
    },
    {
     "name": "stdout",
     "output_type": "stream",
     "text": [
      "Training until validation scores don't improve for 5 rounds\n",
      "Early stopping, best iteration is:\n",
      "[1]\tvalid_0's auc: 1\n"
     ]
    },
    {
     "name": "stderr",
     "output_type": "stream",
     "text": [
      "feature_fraction_stage2, val_score: 1.000000:   0%|          | 0/3 [00:00<?, ?it/s][I 2020-08-14 20:04:18,584] Trial 37 finished with value: 1.0 and parameters: {'feature_fraction': 0.44800000000000006}. Best is trial 37 with value: 1.0.\n",
      "feature_fraction_stage2, val_score: 1.000000:  33%|###3      | 1/3 [00:00<00:00, 11.98it/s]"
     ]
    },
    {
     "name": "stdout",
     "output_type": "stream",
     "text": [
      "Training until validation scores don't improve for 5 rounds\n",
      "Early stopping, best iteration is:\n",
      "[1]\tvalid_0's auc: 1\n"
     ]
    },
    {
     "name": "stderr",
     "output_type": "stream",
     "text": [
      "feature_fraction_stage2, val_score: 1.000000:  67%|######6   | 2/3 [00:00<00:00, 14.56it/s][I 2020-08-14 20:04:18,653] Trial 38 finished with value: 1.0 and parameters: {'feature_fraction': 0.41600000000000004}. Best is trial 37 with value: 1.0.\n",
      "feature_fraction_stage2, val_score: 1.000000:  67%|######6   | 2/3 [00:00<00:00, 14.56it/s]"
     ]
    },
    {
     "name": "stdout",
     "output_type": "stream",
     "text": [
      "Training until validation scores don't improve for 5 rounds\n",
      "Early stopping, best iteration is:\n",
      "[1]\tvalid_0's auc: 1\n"
     ]
    },
    {
     "name": "stderr",
     "output_type": "stream",
     "text": [
      "feature_fraction_stage2, val_score: 1.000000:  67%|######6   | 2/3 [00:00<00:00, 14.56it/s][I 2020-08-14 20:04:18,736] Trial 39 finished with value: 1.0 and parameters: {'feature_fraction': 0.48000000000000004}. Best is trial 37 with value: 1.0.\n",
      "feature_fraction_stage2, val_score: 1.000000: 100%|##########| 3/3 [00:00<00:00, 12.94it/s]\n",
      "regularization_factors, val_score: 1.000000:   0%|          | 0/20 [00:00<?, ?it/s]"
     ]
    },
    {
     "name": "stdout",
     "output_type": "stream",
     "text": [
      "Training until validation scores don't improve for 5 rounds\n",
      "Early stopping, best iteration is:\n",
      "[1]\tvalid_0's auc: 1\n"
     ]
    },
    {
     "name": "stderr",
     "output_type": "stream",
     "text": [
      "regularization_factors, val_score: 1.000000:   0%|          | 0/20 [00:00<?, ?it/s][I 2020-08-14 20:04:18,816] Trial 40 finished with value: 1.0 and parameters: {'lambda_l1': 0.004088492103907157, 'lambda_l2': 1.0389144529943739e-08}. Best is trial 40 with value: 1.0.\n",
      "regularization_factors, val_score: 1.000000:   5%|5         | 1/20 [00:00<00:01, 15.71it/s]"
     ]
    },
    {
     "name": "stdout",
     "output_type": "stream",
     "text": [
      "Training until validation scores don't improve for 5 rounds\n",
      "Early stopping, best iteration is:\n",
      "[1]\tvalid_0's auc: 1\n"
     ]
    },
    {
     "name": "stderr",
     "output_type": "stream",
     "text": [
      "regularization_factors, val_score: 1.000000:  10%|#         | 2/20 [00:00<00:01, 14.84it/s][I 2020-08-14 20:04:18,894] Trial 41 finished with value: 1.0 and parameters: {'lambda_l1': 2.1502328893082467e-08, 'lambda_l2': 7.385188446376135}. Best is trial 40 with value: 1.0.\n",
      "regularization_factors, val_score: 1.000000:  10%|#         | 2/20 [00:00<00:01, 14.84it/s]"
     ]
    },
    {
     "name": "stdout",
     "output_type": "stream",
     "text": [
      "Training until validation scores don't improve for 5 rounds\n",
      "Early stopping, best iteration is:\n",
      "[1]\tvalid_0's auc: 1\n"
     ]
    },
    {
     "name": "stderr",
     "output_type": "stream",
     "text": [
      "regularization_factors, val_score: 1.000000:  10%|#         | 2/20 [00:00<00:01, 14.84it/s][I 2020-08-14 20:04:18,957] Trial 42 finished with value: 1.0 and parameters: {'lambda_l1': 5.7185700064040335, 'lambda_l2': 0.000126857315200329}. Best is trial 40 with value: 1.0.\n",
      "regularization_factors, val_score: 1.000000:  15%|#5        | 3/20 [00:00<00:01, 14.84it/s]"
     ]
    },
    {
     "name": "stdout",
     "output_type": "stream",
     "text": [
      "Training until validation scores don't improve for 5 rounds\n",
      "Early stopping, best iteration is:\n",
      "[1]\tvalid_0's auc: 1\n"
     ]
    },
    {
     "name": "stderr",
     "output_type": "stream",
     "text": [
      "regularization_factors, val_score: 1.000000:  20%|##        | 4/20 [00:00<00:01, 14.93it/s][I 2020-08-14 20:04:19,027] Trial 43 finished with value: 1.0 and parameters: {'lambda_l1': 2.6632764820487367e-08, 'lambda_l2': 0.9049865879118972}. Best is trial 40 with value: 1.0.\n",
      "regularization_factors, val_score: 1.000000:  20%|##        | 4/20 [00:00<00:01, 14.93it/s]"
     ]
    },
    {
     "name": "stdout",
     "output_type": "stream",
     "text": [
      "Training until validation scores don't improve for 5 rounds\n",
      "Early stopping, best iteration is:\n",
      "[1]\tvalid_0's auc: 1\n"
     ]
    },
    {
     "name": "stderr",
     "output_type": "stream",
     "text": [
      "regularization_factors, val_score: 1.000000:  20%|##        | 4/20 [00:00<00:01, 14.93it/s][I 2020-08-14 20:04:19,087] Trial 44 finished with value: 1.0 and parameters: {'lambda_l1': 6.669435327585518e-05, 'lambda_l2': 1.494157444285783e-08}. Best is trial 40 with value: 1.0.\n",
      "regularization_factors, val_score: 1.000000:  25%|##5       | 5/20 [00:00<00:01, 14.93it/s]"
     ]
    },
    {
     "name": "stdout",
     "output_type": "stream",
     "text": [
      "Training until validation scores don't improve for 5 rounds\n",
      "Early stopping, best iteration is:\n",
      "[1]\tvalid_0's auc: 1\n"
     ]
    },
    {
     "name": "stderr",
     "output_type": "stream",
     "text": [
      "regularization_factors, val_score: 1.000000:  30%|###       | 6/20 [00:00<00:00, 15.16it/s][I 2020-08-14 20:04:19,153] Trial 45 finished with value: 1.0 and parameters: {'lambda_l1': 1.353051932523307, 'lambda_l2': 0.00016006617968996914}. Best is trial 40 with value: 1.0.\n",
      "regularization_factors, val_score: 1.000000:  30%|###       | 6/20 [00:00<00:00, 15.16it/s]"
     ]
    },
    {
     "name": "stdout",
     "output_type": "stream",
     "text": [
      "Training until validation scores don't improve for 5 rounds\n",
      "Early stopping, best iteration is:\n",
      "[1]\tvalid_0's auc: 1\n"
     ]
    },
    {
     "name": "stderr",
     "output_type": "stream",
     "text": [
      "regularization_factors, val_score: 1.000000:  30%|###       | 6/20 [00:00<00:00, 15.16it/s][I 2020-08-14 20:04:19,215] Trial 46 finished with value: 1.0 and parameters: {'lambda_l1': 7.923742697293004e-06, 'lambda_l2': 0.039532704821276285}. Best is trial 40 with value: 1.0.\n",
      "regularization_factors, val_score: 1.000000:  35%|###5      | 7/20 [00:00<00:00, 15.16it/s]"
     ]
    },
    {
     "name": "stdout",
     "output_type": "stream",
     "text": [
      "Training until validation scores don't improve for 5 rounds\n",
      "Early stopping, best iteration is:\n",
      "[1]\tvalid_0's auc: 1\n"
     ]
    },
    {
     "name": "stderr",
     "output_type": "stream",
     "text": [
      "regularization_factors, val_score: 1.000000:  40%|####      | 8/20 [00:00<00:00, 15.27it/s][I 2020-08-14 20:04:19,281] Trial 47 finished with value: 1.0 and parameters: {'lambda_l1': 0.0029926402768737843, 'lambda_l2': 7.402993475741886e-07}. Best is trial 40 with value: 1.0.\n",
      "regularization_factors, val_score: 1.000000:  40%|####      | 8/20 [00:00<00:00, 15.27it/s]"
     ]
    },
    {
     "name": "stdout",
     "output_type": "stream",
     "text": [
      "Training until validation scores don't improve for 5 rounds\n",
      "Early stopping, best iteration is:\n",
      "[1]\tvalid_0's auc: 1\n"
     ]
    },
    {
     "name": "stderr",
     "output_type": "stream",
     "text": [
      "regularization_factors, val_score: 1.000000:  40%|####      | 8/20 [00:00<00:00, 15.27it/s][I 2020-08-14 20:04:19,340] Trial 48 finished with value: 1.0 and parameters: {'lambda_l1': 7.194981712885984e-07, 'lambda_l2': 0.008811866290699055}. Best is trial 40 with value: 1.0.\n",
      "regularization_factors, val_score: 1.000000:  45%|####5     | 9/20 [00:00<00:00, 15.27it/s]"
     ]
    },
    {
     "name": "stdout",
     "output_type": "stream",
     "text": [
      "Training until validation scores don't improve for 5 rounds\n",
      "Early stopping, best iteration is:\n",
      "[1]\tvalid_0's auc: 1\n"
     ]
    },
    {
     "name": "stderr",
     "output_type": "stream",
     "text": [
      "regularization_factors, val_score: 1.000000:  50%|#####     | 10/20 [00:00<00:00, 15.85it/s][I 2020-08-14 20:04:19,396] Trial 49 finished with value: 1.0 and parameters: {'lambda_l1': 0.07722622176504046, 'lambda_l2': 1.3644107572491395e-06}. Best is trial 40 with value: 1.0.\n",
      "regularization_factors, val_score: 1.000000:  50%|#####     | 10/20 [00:00<00:00, 15.85it/s]"
     ]
    },
    {
     "name": "stdout",
     "output_type": "stream",
     "text": [
      "Training until validation scores don't improve for 5 rounds\n",
      "Early stopping, best iteration is:\n",
      "[1]\tvalid_0's auc: 1\n"
     ]
    },
    {
     "name": "stderr",
     "output_type": "stream",
     "text": [
      "regularization_factors, val_score: 1.000000:  50%|#####     | 10/20 [00:00<00:00, 15.85it/s][I 2020-08-14 20:04:19,466] Trial 50 finished with value: 1.0 and parameters: {'lambda_l1': 9.359573642465782e-07, 'lambda_l2': 2.1395031410635163e-06}. Best is trial 40 with value: 1.0.\n",
      "regularization_factors, val_score: 1.000000:  55%|#####5    | 11/20 [00:00<00:00, 15.85it/s]"
     ]
    },
    {
     "name": "stdout",
     "output_type": "stream",
     "text": [
      "Training until validation scores don't improve for 5 rounds\n",
      "Early stopping, best iteration is:\n",
      "[1]\tvalid_0's auc: 1\n"
     ]
    },
    {
     "name": "stderr",
     "output_type": "stream",
     "text": [
      "regularization_factors, val_score: 1.000000:  60%|######    | 12/20 [00:00<00:00, 15.42it/s][I 2020-08-14 20:04:19,534] Trial 51 finished with value: 1.0 and parameters: {'lambda_l1': 0.15997123256048468, 'lambda_l2': 0.008725254642141377}. Best is trial 40 with value: 1.0.\n",
      "regularization_factors, val_score: 1.000000:  60%|######    | 12/20 [00:00<00:00, 15.42it/s]"
     ]
    },
    {
     "name": "stdout",
     "output_type": "stream",
     "text": [
      "Training until validation scores don't improve for 5 rounds\n",
      "Early stopping, best iteration is:\n",
      "[1]\tvalid_0's auc: 1\n"
     ]
    },
    {
     "name": "stderr",
     "output_type": "stream",
     "text": [
      "regularization_factors, val_score: 1.000000:  60%|######    | 12/20 [00:00<00:00, 15.42it/s][I 2020-08-14 20:04:19,592] Trial 52 finished with value: 1.0 and parameters: {'lambda_l1': 0.0004051251124092132, 'lambda_l2': 0.475521127607257}. Best is trial 40 with value: 1.0.\n",
      "regularization_factors, val_score: 1.000000:  65%|######5   | 13/20 [00:00<00:00, 15.42it/s]"
     ]
    },
    {
     "name": "stdout",
     "output_type": "stream",
     "text": [
      "Training until validation scores don't improve for 5 rounds\n",
      "Early stopping, best iteration is:\n",
      "[1]\tvalid_0's auc: 1\n"
     ]
    },
    {
     "name": "stderr",
     "output_type": "stream",
     "text": [
      "regularization_factors, val_score: 1.000000:  70%|#######   | 14/20 [00:00<00:00, 15.84it/s][I 2020-08-14 20:04:19,652] Trial 53 finished with value: 1.0 and parameters: {'lambda_l1': 1.0388024250516598e-07, 'lambda_l2': 1.3442100057674576e-05}. Best is trial 40 with value: 1.0.\n",
      "regularization_factors, val_score: 1.000000:  70%|#######   | 14/20 [00:00<00:00, 15.84it/s]"
     ]
    },
    {
     "name": "stdout",
     "output_type": "stream",
     "text": [
      "Training until validation scores don't improve for 5 rounds\n",
      "Early stopping, best iteration is:\n",
      "[1]\tvalid_0's auc: 1\n"
     ]
    },
    {
     "name": "stderr",
     "output_type": "stream",
     "text": [
      "regularization_factors, val_score: 1.000000:  70%|#######   | 14/20 [00:00<00:00, 15.84it/s][I 2020-08-14 20:04:19,720] Trial 54 finished with value: 1.0 and parameters: {'lambda_l1': 0.03988825108320744, 'lambda_l2': 1.387258833739582e-07}. Best is trial 40 with value: 1.0.\n",
      "regularization_factors, val_score: 1.000000:  75%|#######5  | 15/20 [00:00<00:00, 15.84it/s]"
     ]
    },
    {
     "name": "stdout",
     "output_type": "stream",
     "text": [
      "Training until validation scores don't improve for 5 rounds\n",
      "Early stopping, best iteration is:\n",
      "[1]\tvalid_0's auc: 1\n"
     ]
    },
    {
     "name": "stderr",
     "output_type": "stream",
     "text": [
      "regularization_factors, val_score: 1.000000:  80%|########  | 16/20 [00:01<00:00, 15.59it/s][I 2020-08-14 20:04:19,785] Trial 55 finished with value: 1.0 and parameters: {'lambda_l1': 3.592417561237571e-05, 'lambda_l2': 6.895395785149358}. Best is trial 40 with value: 1.0.\n",
      "regularization_factors, val_score: 1.000000:  80%|########  | 16/20 [00:01<00:00, 15.59it/s]"
     ]
    },
    {
     "name": "stdout",
     "output_type": "stream",
     "text": [
      "Training until validation scores don't improve for 5 rounds\n",
      "Early stopping, best iteration is:\n",
      "[1]\tvalid_0's auc: 1\n"
     ]
    },
    {
     "name": "stderr",
     "output_type": "stream",
     "text": [
      "regularization_factors, val_score: 1.000000:  80%|########  | 16/20 [00:01<00:00, 15.59it/s][I 2020-08-14 20:04:19,845] Trial 56 finished with value: 1.0 and parameters: {'lambda_l1': 2.029619507783258, 'lambda_l2': 0.0013625779436501801}. Best is trial 40 with value: 1.0.\n",
      "regularization_factors, val_score: 1.000000:  85%|########5 | 17/20 [00:01<00:00, 15.59it/s]"
     ]
    },
    {
     "name": "stdout",
     "output_type": "stream",
     "text": [
      "Training until validation scores don't improve for 5 rounds\n",
      "Early stopping, best iteration is:\n",
      "[1]\tvalid_0's auc: 1\n"
     ]
    },
    {
     "name": "stderr",
     "output_type": "stream",
     "text": [
      "regularization_factors, val_score: 1.000000:  90%|######### | 18/20 [00:01<00:00, 16.27it/s][I 2020-08-14 20:04:19,897] Trial 57 finished with value: 1.0 and parameters: {'lambda_l1': 0.0015264579657461128, 'lambda_l2': 2.3180433078994875e-05}. Best is trial 40 with value: 1.0.\n",
      "regularization_factors, val_score: 1.000000:  90%|######### | 18/20 [00:01<00:00, 16.27it/s]"
     ]
    },
    {
     "name": "stdout",
     "output_type": "stream",
     "text": [
      "Training until validation scores don't improve for 5 rounds\n",
      "Early stopping, best iteration is:\n",
      "[1]\tvalid_0's auc: 1\n"
     ]
    },
    {
     "name": "stderr",
     "output_type": "stream",
     "text": [
      "regularization_factors, val_score: 1.000000:  90%|######### | 18/20 [00:01<00:00, 16.27it/s][I 2020-08-14 20:04:19,952] Trial 58 finished with value: 1.0 and parameters: {'lambda_l1': 3.2274239730280303e-06, 'lambda_l2': 5.145257534148598e-08}. Best is trial 40 with value: 1.0.\n",
      "regularization_factors, val_score: 1.000000:  95%|#########5| 19/20 [00:01<00:00, 16.27it/s]"
     ]
    },
    {
     "name": "stdout",
     "output_type": "stream",
     "text": [
      "Training until validation scores don't improve for 5 rounds\n",
      "Early stopping, best iteration is:\n",
      "[1]\tvalid_0's auc: 1\n"
     ]
    },
    {
     "name": "stderr",
     "output_type": "stream",
     "text": [
      "regularization_factors, val_score: 1.000000: 100%|##########| 20/20 [00:01<00:00, 16.11it/s][I 2020-08-14 20:04:20,023] Trial 59 finished with value: 1.0 and parameters: {'lambda_l1': 0.31833511473090215, 'lambda_l2': 0.2529647734058402}. Best is trial 40 with value: 1.0.\n",
      "regularization_factors, val_score: 1.000000: 100%|##########| 20/20 [00:01<00:00, 15.70it/s]\n",
      "min_data_in_leaf, val_score: 1.000000:   0%|          | 0/5 [00:00<?, ?it/s]"
     ]
    },
    {
     "name": "stdout",
     "output_type": "stream",
     "text": [
      "Training until validation scores don't improve for 5 rounds\n",
      "Early stopping, best iteration is:\n",
      "[1]\tvalid_0's auc: 1\n"
     ]
    },
    {
     "name": "stderr",
     "output_type": "stream",
     "text": [
      "min_data_in_leaf, val_score: 1.000000:   0%|          | 0/5 [00:00<?, ?it/s][I 2020-08-14 20:04:20,101] Trial 60 finished with value: 1.0 and parameters: {'min_child_samples': 25}. Best is trial 60 with value: 1.0.\n",
      "min_data_in_leaf, val_score: 1.000000:  20%|##        | 1/5 [00:00<00:00, 13.30it/s]"
     ]
    },
    {
     "name": "stdout",
     "output_type": "stream",
     "text": [
      "Training until validation scores don't improve for 5 rounds\n",
      "Early stopping, best iteration is:\n",
      "[1]\tvalid_0's auc: 1\n"
     ]
    },
    {
     "name": "stderr",
     "output_type": "stream",
     "text": [
      "min_data_in_leaf, val_score: 1.000000:  40%|####      | 2/5 [00:00<00:00, 16.61it/s][I 2020-08-14 20:04:20,162] Trial 61 finished with value: 1.0 and parameters: {'min_child_samples': 100}. Best is trial 60 with value: 1.0.\n",
      "min_data_in_leaf, val_score: 1.000000:  40%|####      | 2/5 [00:00<00:00, 16.61it/s]"
     ]
    },
    {
     "name": "stdout",
     "output_type": "stream",
     "text": [
      "Training until validation scores don't improve for 5 rounds\n",
      "Early stopping, best iteration is:\n",
      "[1]\tvalid_0's auc: 1\n"
     ]
    },
    {
     "name": "stderr",
     "output_type": "stream",
     "text": [
      "min_data_in_leaf, val_score: 1.000000:  40%|####      | 2/5 [00:00<00:00, 16.61it/s][I 2020-08-14 20:04:20,224] Trial 62 finished with value: 1.0 and parameters: {'min_child_samples': 10}. Best is trial 60 with value: 1.0.\n",
      "min_data_in_leaf, val_score: 1.000000:  60%|######    | 3/5 [00:00<00:00, 16.61it/s]"
     ]
    },
    {
     "name": "stdout",
     "output_type": "stream",
     "text": [
      "Training until validation scores don't improve for 5 rounds\n",
      "Early stopping, best iteration is:\n",
      "[1]\tvalid_0's auc: 1\n"
     ]
    },
    {
     "name": "stderr",
     "output_type": "stream",
     "text": [
      "min_data_in_leaf, val_score: 1.000000:  80%|########  | 4/5 [00:00<00:00, 16.86it/s][I 2020-08-14 20:04:20,275] Trial 63 finished with value: 1.0 and parameters: {'min_child_samples': 50}. Best is trial 60 with value: 1.0.\n",
      "min_data_in_leaf, val_score: 1.000000:  80%|########  | 4/5 [00:00<00:00, 16.86it/s]"
     ]
    },
    {
     "name": "stdout",
     "output_type": "stream",
     "text": [
      "Training until validation scores don't improve for 5 rounds\n",
      "Early stopping, best iteration is:\n",
      "[1]\tvalid_0's auc: 1\n"
     ]
    },
    {
     "name": "stderr",
     "output_type": "stream",
     "text": [
      "min_data_in_leaf, val_score: 1.000000:  80%|########  | 4/5 [00:00<00:00, 16.86it/s][I 2020-08-14 20:04:20,340] Trial 64 finished with value: 1.0 and parameters: {'min_child_samples': 5}. Best is trial 60 with value: 1.0.\n",
      "min_data_in_leaf, val_score: 1.000000: 100%|##########| 5/5 [00:00<00:00, 15.80it/s]\n"
     ]
    }
   ],
   "source": [
    "# パラメータチューニング\n",
    "lgb_train = lgb.Dataset(X_train, y_train, categorical_feature=categorical_features, free_raw_data=False)\n",
    "lgb_test = lgb.Dataset(X_test)\n",
    "params = {\n",
    "    'metric' :'auc',\n",
    "    \"objective\": \"binary\",\n",
    "}\n",
    "clf = optuna.integration.lightgbm.train(\n",
    "     params, lgb_train, valid_sets=lgb_test, verbose_eval=10, early_stopping_rounds=5,\n",
    " )\n",
    "best_params = clf.params"
   ]
  },
  {
   "cell_type": "code",
   "execution_count": 23,
   "metadata": {},
   "outputs": [
    {
     "data": {
      "text/plain": [
       "{'metric': 'auc',\n",
       " 'objective': 'binary',\n",
       " 'lambda_l1': 0.0,\n",
       " 'lambda_l2': 0.0,\n",
       " 'num_leaves': 31,\n",
       " 'feature_fraction': 0.4,\n",
       " 'bagging_fraction': 1.0,\n",
       " 'bagging_freq': 0,\n",
       " 'min_child_samples': 20}"
      ]
     },
     "execution_count": 23,
     "metadata": {},
     "output_type": "execute_result"
    }
   ],
   "source": [
    "best_params"
   ]
  },
  {
   "cell_type": "code",
   "execution_count": 24,
   "metadata": {},
   "outputs": [
    {
     "name": "stderr",
     "output_type": "stream",
     "text": [
      "/opt/anaconda3/lib/python3.7/site-packages/lightgbm/basic.py:1243: UserWarning: Using categorical_feature in Dataset.\n",
      "  warnings.warn('Using categorical_feature in Dataset.')\n"
     ]
    },
    {
     "name": "stdout",
     "output_type": "stream",
     "text": [
      "roc:0.8472061359324109\n"
     ]
    },
    {
     "name": "stderr",
     "output_type": "stream",
     "text": [
      "/opt/anaconda3/lib/python3.7/site-packages/lightgbm/basic.py:1243: UserWarning: Using categorical_feature in Dataset.\n",
      "  warnings.warn('Using categorical_feature in Dataset.')\n"
     ]
    },
    {
     "name": "stdout",
     "output_type": "stream",
     "text": [
      "roc:0.8557267878443273\n"
     ]
    },
    {
     "name": "stderr",
     "output_type": "stream",
     "text": [
      "/opt/anaconda3/lib/python3.7/site-packages/lightgbm/basic.py:1243: UserWarning: Using categorical_feature in Dataset.\n",
      "  warnings.warn('Using categorical_feature in Dataset.')\n"
     ]
    },
    {
     "name": "stdout",
     "output_type": "stream",
     "text": [
      "roc:0.8545723108728915\n"
     ]
    },
    {
     "name": "stderr",
     "output_type": "stream",
     "text": [
      "/opt/anaconda3/lib/python3.7/site-packages/lightgbm/basic.py:1243: UserWarning: Using categorical_feature in Dataset.\n",
      "  warnings.warn('Using categorical_feature in Dataset.')\n"
     ]
    },
    {
     "name": "stdout",
     "output_type": "stream",
     "text": [
      "roc:0.8462544549982431\n",
      "Kfold平均 roc:0.8509399224119683\n"
     ]
    },
    {
     "data": {
      "text/plain": [
       "array([0.00847268, 0.00414743, 0.03402451, ..., 0.00394201, 0.07818097,\n",
       "       0.02374185])"
      ]
     },
     "execution_count": 24,
     "metadata": {},
     "output_type": "execute_result"
    }
   ],
   "source": [
    "cv = StratifiedKFold(n_splits=4, shuffle=True, random_state=0)\n",
    "roc_list = []\n",
    "for train_index, test_index in cv.split(X_train, y_train):\n",
    "    X_tr = X_train.iloc[train_index]\n",
    "    y_tr = y_train.iloc[train_index]\n",
    "    X_va = X_train.iloc[test_index]\n",
    "    y_va = y_train.iloc[test_index]\n",
    "    lgb_train = lgb.Dataset(X_tr, y_tr, categorical_feature=categorical_features)\n",
    "    lgb_test = lgb.Dataset(X_test)\n",
    "    params = {\n",
    "        'metric' :'auc',\n",
    "        'objective': 'binary'\n",
    "    }\n",
    "    clf = lgb.train(best_params, lgb_train,100)\n",
    "    y_predict = clf.predict(X_va, num_iteration=clf.best_iteration)\n",
    "    roc= get_evaluate(y_va, y_predict)\n",
    "    print('roc:{}'.format(roc))\n",
    "    roc_list.append(roc)\n",
    "print('Kfold平均 roc:{}'.format(np.mean(roc_list)))\n",
    "y_predict"
   ]
  },
  {
   "cell_type": "code",
   "execution_count": 25,
   "metadata": {
    "scrolled": true
   },
   "outputs": [
    {
     "name": "stderr",
     "output_type": "stream",
     "text": [
      "/opt/anaconda3/lib/python3.7/site-packages/lightgbm/basic.py:1243: UserWarning: Using categorical_feature in Dataset.\n",
      "  warnings.warn('Using categorical_feature in Dataset.')\n"
     ]
    },
    {
     "name": "stdout",
     "output_type": "stream",
     "text": [
      "Training until validation scores don't improve for 10 rounds\n",
      "[10]\ttraining's auc: 0.862827\tvalid_1's auc: 0.831583\n",
      "[20]\ttraining's auc: 0.879453\tvalid_1's auc: 0.843382\n",
      "[30]\ttraining's auc: 0.891227\tvalid_1's auc: 0.847068\n",
      "[40]\ttraining's auc: 0.90314\tvalid_1's auc: 0.848582\n",
      "[50]\ttraining's auc: 0.911144\tvalid_1's auc: 0.848239\n",
      "Early stopping, best iteration is:\n",
      "[43]\ttraining's auc: 0.905494\tvalid_1's auc: 0.849416\n"
     ]
    }
   ],
   "source": [
    "import lightgbm as lgb\n",
    "\n",
    "\n",
    "lgb_train = lgb.Dataset(X_train, y_train, categorical_feature=categorical_features)\n",
    "lgb_eval = lgb.Dataset(X_valid, y_valid, reference=lgb_train, categorical_feature=categorical_features)\n",
    "\n",
    "params = {\n",
    "    'metric' :'auc',\n",
    "    'objective': 'binary'\n",
    "}\n",
    "\n",
    "model = lgb.train(\n",
    "    best_params, lgb_train,\n",
    "    valid_sets=[lgb_train, lgb_eval],\n",
    "    verbose_eval=10,\n",
    "    num_boost_round=1000,\n",
    "    early_stopping_rounds=10\n",
    ")\n",
    "\n",
    "y_pred = model.predict(X_test, num_iteration=model.best_iteration)\n"
   ]
  },
  {
   "cell_type": "code",
   "execution_count": 26,
   "metadata": {},
   "outputs": [
    {
     "data": {
      "text/plain": [
       "array([0.73373612, 0.09184915, 0.02758428, ..., 0.08144251, 0.00831636,\n",
       "       0.15671077])"
      ]
     },
     "execution_count": 26,
     "metadata": {},
     "output_type": "execute_result"
    }
   ],
   "source": [
    "y_pred"
   ]
  },
  {
   "cell_type": "code",
   "execution_count": 27,
   "metadata": {},
   "outputs": [
    {
     "data": {
      "text/plain": [
       "array([0.73373612, 0.09184915, 0.02758428, 0.00505327, 0.0854993 ,\n",
       "       0.01237765, 0.01425402, 0.13539414, 0.03756013, 0.00759351])"
      ]
     },
     "execution_count": 27,
     "metadata": {},
     "output_type": "execute_result"
    }
   ],
   "source": [
    "y_pred[:10]"
   ]
  },
  {
   "cell_type": "code",
   "execution_count": 28,
   "metadata": {},
   "outputs": [],
   "source": [
    "# y_pred = (y_pred > 0.65).astype(int)\n",
    "# y_pred"
   ]
  },
  {
   "cell_type": "code",
   "execution_count": 29,
   "metadata": {},
   "outputs": [
    {
     "data": {
      "text/html": [
       "<div>\n",
       "<style scoped>\n",
       "    .dataframe tbody tr th:only-of-type {\n",
       "        vertical-align: middle;\n",
       "    }\n",
       "\n",
       "    .dataframe tbody tr th {\n",
       "        vertical-align: top;\n",
       "    }\n",
       "\n",
       "    .dataframe thead th {\n",
       "        text-align: right;\n",
       "    }\n",
       "</style>\n",
       "<table border=\"1\" class=\"dataframe\">\n",
       "  <thead>\n",
       "    <tr style=\"text-align: right;\">\n",
       "      <th></th>\n",
       "      <th>0</th>\n",
       "      <th>1</th>\n",
       "    </tr>\n",
       "  </thead>\n",
       "  <tbody>\n",
       "    <tr>\n",
       "      <th>0</th>\n",
       "      <td>0</td>\n",
       "      <td>0</td>\n",
       "    </tr>\n",
       "    <tr>\n",
       "      <th>1</th>\n",
       "      <td>1</td>\n",
       "      <td>0</td>\n",
       "    </tr>\n",
       "    <tr>\n",
       "      <th>2</th>\n",
       "      <td>2</td>\n",
       "      <td>0</td>\n",
       "    </tr>\n",
       "    <tr>\n",
       "      <th>3</th>\n",
       "      <td>3</td>\n",
       "      <td>0</td>\n",
       "    </tr>\n",
       "    <tr>\n",
       "      <th>4</th>\n",
       "      <td>4</td>\n",
       "      <td>0</td>\n",
       "    </tr>\n",
       "    <tr>\n",
       "      <th>...</th>\n",
       "      <td>...</td>\n",
       "      <td>...</td>\n",
       "    </tr>\n",
       "    <tr>\n",
       "      <th>18045</th>\n",
       "      <td>18045</td>\n",
       "      <td>0</td>\n",
       "    </tr>\n",
       "    <tr>\n",
       "      <th>18046</th>\n",
       "      <td>18046</td>\n",
       "      <td>0</td>\n",
       "    </tr>\n",
       "    <tr>\n",
       "      <th>18047</th>\n",
       "      <td>18047</td>\n",
       "      <td>0</td>\n",
       "    </tr>\n",
       "    <tr>\n",
       "      <th>18048</th>\n",
       "      <td>18048</td>\n",
       "      <td>0</td>\n",
       "    </tr>\n",
       "    <tr>\n",
       "      <th>18049</th>\n",
       "      <td>18049</td>\n",
       "      <td>0</td>\n",
       "    </tr>\n",
       "  </tbody>\n",
       "</table>\n",
       "<p>18050 rows × 2 columns</p>\n",
       "</div>"
      ],
      "text/plain": [
       "           0  1\n",
       "0          0  0\n",
       "1          1  0\n",
       "2          2  0\n",
       "3          3  0\n",
       "4          4  0\n",
       "...      ... ..\n",
       "18045  18045  0\n",
       "18046  18046  0\n",
       "18047  18047  0\n",
       "18048  18048  0\n",
       "18049  18049  0\n",
       "\n",
       "[18050 rows x 2 columns]"
      ]
     },
     "execution_count": 29,
     "metadata": {},
     "output_type": "execute_result"
    }
   ],
   "source": [
    "submit"
   ]
  },
  {
   "cell_type": "code",
   "execution_count": 30,
   "metadata": {},
   "outputs": [],
   "source": [
    "submit = submit.drop(1, axis=1)\n",
    "# submit = submit.drop(0, axis=1)\n",
    "submit['1'] = y_pred"
   ]
  },
  {
   "cell_type": "code",
   "execution_count": 31,
   "metadata": {},
   "outputs": [
    {
     "data": {
      "text/html": [
       "<div>\n",
       "<style scoped>\n",
       "    .dataframe tbody tr th:only-of-type {\n",
       "        vertical-align: middle;\n",
       "    }\n",
       "\n",
       "    .dataframe tbody tr th {\n",
       "        vertical-align: top;\n",
       "    }\n",
       "\n",
       "    .dataframe thead th {\n",
       "        text-align: right;\n",
       "    }\n",
       "</style>\n",
       "<table border=\"1\" class=\"dataframe\">\n",
       "  <thead>\n",
       "    <tr style=\"text-align: right;\">\n",
       "      <th></th>\n",
       "      <th>0</th>\n",
       "      <th>1</th>\n",
       "    </tr>\n",
       "  </thead>\n",
       "  <tbody>\n",
       "    <tr>\n",
       "      <th>0</th>\n",
       "      <td>0</td>\n",
       "      <td>0.733736</td>\n",
       "    </tr>\n",
       "    <tr>\n",
       "      <th>1</th>\n",
       "      <td>1</td>\n",
       "      <td>0.091849</td>\n",
       "    </tr>\n",
       "    <tr>\n",
       "      <th>2</th>\n",
       "      <td>2</td>\n",
       "      <td>0.027584</td>\n",
       "    </tr>\n",
       "    <tr>\n",
       "      <th>3</th>\n",
       "      <td>3</td>\n",
       "      <td>0.005053</td>\n",
       "    </tr>\n",
       "    <tr>\n",
       "      <th>4</th>\n",
       "      <td>4</td>\n",
       "      <td>0.085499</td>\n",
       "    </tr>\n",
       "    <tr>\n",
       "      <th>...</th>\n",
       "      <td>...</td>\n",
       "      <td>...</td>\n",
       "    </tr>\n",
       "    <tr>\n",
       "      <th>18045</th>\n",
       "      <td>18045</td>\n",
       "      <td>0.025332</td>\n",
       "    </tr>\n",
       "    <tr>\n",
       "      <th>18046</th>\n",
       "      <td>18046</td>\n",
       "      <td>0.007795</td>\n",
       "    </tr>\n",
       "    <tr>\n",
       "      <th>18047</th>\n",
       "      <td>18047</td>\n",
       "      <td>0.081443</td>\n",
       "    </tr>\n",
       "    <tr>\n",
       "      <th>18048</th>\n",
       "      <td>18048</td>\n",
       "      <td>0.008316</td>\n",
       "    </tr>\n",
       "    <tr>\n",
       "      <th>18049</th>\n",
       "      <td>18049</td>\n",
       "      <td>0.156711</td>\n",
       "    </tr>\n",
       "  </tbody>\n",
       "</table>\n",
       "<p>18050 rows × 2 columns</p>\n",
       "</div>"
      ],
      "text/plain": [
       "           0         1\n",
       "0          0  0.733736\n",
       "1          1  0.091849\n",
       "2          2  0.027584\n",
       "3          3  0.005053\n",
       "4          4  0.085499\n",
       "...      ...       ...\n",
       "18045  18045  0.025332\n",
       "18046  18046  0.007795\n",
       "18047  18047  0.081443\n",
       "18048  18048  0.008316\n",
       "18049  18049  0.156711\n",
       "\n",
       "[18050 rows x 2 columns]"
      ]
     },
     "execution_count": 31,
     "metadata": {},
     "output_type": "execute_result"
    }
   ],
   "source": [
    "submit"
   ]
  },
  {
   "cell_type": "code",
   "execution_count": 33,
   "metadata": {},
   "outputs": [],
   "source": [
    "submit.to_csv('lightgbm16_submit.csv',  index=False, header=None)"
   ]
  },
  {
   "cell_type": "code",
   "execution_count": null,
   "metadata": {},
   "outputs": [],
   "source": []
  }
 ],
 "metadata": {
  "kernelspec": {
   "display_name": "Python 3",
   "language": "python",
   "name": "python3"
  },
  "language_info": {
   "codemirror_mode": {
    "name": "ipython",
    "version": 3
   },
   "file_extension": ".py",
   "mimetype": "text/x-python",
   "name": "python",
   "nbconvert_exporter": "python",
   "pygments_lexer": "ipython3",
   "version": "3.7.7"
  }
 },
 "nbformat": 4,
 "nbformat_minor": 4
}
